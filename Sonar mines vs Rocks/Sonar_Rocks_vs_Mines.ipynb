{
  "nbformat": 4,
  "nbformat_minor": 0,
  "metadata": {
    "colab": {
      "name": "Sonar Rocks vs Mines.ipynb",
      "provenance": []
    },
    "kernelspec": {
      "name": "python3",
      "display_name": "Python 3"
    },
    "language_info": {
      "name": "python"
    }
  },
  "cells": [
    {
      "cell_type": "markdown",
      "source": [
        "Importing dependencies\n"
      ],
      "metadata": {
        "id": "-FQ16ao0s-9C"
      }
    },
    {
      "cell_type": "markdown",
      "source": [
        "Work Flow \n",
        "\n",
        "1) Sonar Data\n",
        "2) Data Pre Preprocessing\n",
        "3)Train Test Split\n",
        "4) Logistic Regression\n",
        "\n",
        "\n",
        "\n",
        "\n"
      ],
      "metadata": {
        "id": "kIJ1oeFwv9lU"
      }
    },
    {
      "cell_type": "code",
      "execution_count": 73,
      "metadata": {
        "id": "8RAryEaTs0xm"
      },
      "outputs": [],
      "source": [
        "import pandas as pd\n",
        "import numpy as np\n",
        "import matplotlib.pyplot as plt\n",
        "import seaborn as sns\n",
        "\n",
        "from sklearn.model_selection import train_test_split\n",
        "from sklearn.linear_model import LogisticRegression\n",
        "\n",
        "\n",
        "from sklearn.model_selection import train_test_split, GridSearchCV\n",
        "from sklearn.preprocessing import LabelEncoder\n",
        "from sklearn.metrics import classification_report, accuracy_score, confusion_matrix\n",
        "from sklearn.linear_model import LogisticRegression\n",
        "from sklearn.svm import SVC\n",
        "from sklearn.ensemble import RandomForestClassifier"
      ]
    },
    {
      "cell_type": "code",
      "source": [
        "#import dataset\n",
        "df = pd.read_csv('/content/sonar.all-data.csv',header = None)\n"
      ],
      "metadata": {
        "id": "JS01ScO0tafG"
      },
      "execution_count": 27,
      "outputs": []
    },
    {
      "cell_type": "code",
      "source": [
        "df.shape"
      ],
      "metadata": {
        "colab": {
          "base_uri": "https://localhost:8080/"
        },
        "id": "idlhgXB3tjxH",
        "outputId": "444f4e5b-1170-45b6-bcab-6a7b095a1305"
      },
      "execution_count": 28,
      "outputs": [
        {
          "output_type": "execute_result",
          "data": {
            "text/plain": [
              "(208, 61)"
            ]
          },
          "metadata": {},
          "execution_count": 28
        }
      ]
    },
    {
      "cell_type": "code",
      "source": [
        "df.info()"
      ],
      "metadata": {
        "id": "0M8TILuXtnAl"
      },
      "execution_count": null,
      "outputs": []
    },
    {
      "cell_type": "code",
      "source": [
        "df.head()"
      ],
      "metadata": {
        "colab": {
          "base_uri": "https://localhost:8080/",
          "height": 300
        },
        "id": "1umMULFOtpR9",
        "outputId": "944caf54-36e6-4fff-c6cc-7efe08acf196"
      },
      "execution_count": 29,
      "outputs": [
        {
          "output_type": "execute_result",
          "data": {
            "text/plain": [
              "       0       1       2       3       4       5       6       7       8   \\\n",
              "0  0.0200  0.0371  0.0428  0.0207  0.0954  0.0986  0.1539  0.1601  0.3109   \n",
              "1  0.0453  0.0523  0.0843  0.0689  0.1183  0.2583  0.2156  0.3481  0.3337   \n",
              "2  0.0262  0.0582  0.1099  0.1083  0.0974  0.2280  0.2431  0.3771  0.5598   \n",
              "3  0.0100  0.0171  0.0623  0.0205  0.0205  0.0368  0.1098  0.1276  0.0598   \n",
              "4  0.0762  0.0666  0.0481  0.0394  0.0590  0.0649  0.1209  0.2467  0.3564   \n",
              "\n",
              "       9   ...      51      52      53      54      55      56      57  \\\n",
              "0  0.2111  ...  0.0027  0.0065  0.0159  0.0072  0.0167  0.0180  0.0084   \n",
              "1  0.2872  ...  0.0084  0.0089  0.0048  0.0094  0.0191  0.0140  0.0049   \n",
              "2  0.6194  ...  0.0232  0.0166  0.0095  0.0180  0.0244  0.0316  0.0164   \n",
              "3  0.1264  ...  0.0121  0.0036  0.0150  0.0085  0.0073  0.0050  0.0044   \n",
              "4  0.4459  ...  0.0031  0.0054  0.0105  0.0110  0.0015  0.0072  0.0048   \n",
              "\n",
              "       58      59  60  \n",
              "0  0.0090  0.0032   R  \n",
              "1  0.0052  0.0044   R  \n",
              "2  0.0095  0.0078   R  \n",
              "3  0.0040  0.0117   R  \n",
              "4  0.0107  0.0094   R  \n",
              "\n",
              "[5 rows x 61 columns]"
            ],
            "text/html": [
              "\n",
              "  <div id=\"df-f551adc5-28e7-44ab-907c-09b2fc351c3c\">\n",
              "    <div class=\"colab-df-container\">\n",
              "      <div>\n",
              "<style scoped>\n",
              "    .dataframe tbody tr th:only-of-type {\n",
              "        vertical-align: middle;\n",
              "    }\n",
              "\n",
              "    .dataframe tbody tr th {\n",
              "        vertical-align: top;\n",
              "    }\n",
              "\n",
              "    .dataframe thead th {\n",
              "        text-align: right;\n",
              "    }\n",
              "</style>\n",
              "<table border=\"1\" class=\"dataframe\">\n",
              "  <thead>\n",
              "    <tr style=\"text-align: right;\">\n",
              "      <th></th>\n",
              "      <th>0</th>\n",
              "      <th>1</th>\n",
              "      <th>2</th>\n",
              "      <th>3</th>\n",
              "      <th>4</th>\n",
              "      <th>5</th>\n",
              "      <th>6</th>\n",
              "      <th>7</th>\n",
              "      <th>8</th>\n",
              "      <th>9</th>\n",
              "      <th>...</th>\n",
              "      <th>51</th>\n",
              "      <th>52</th>\n",
              "      <th>53</th>\n",
              "      <th>54</th>\n",
              "      <th>55</th>\n",
              "      <th>56</th>\n",
              "      <th>57</th>\n",
              "      <th>58</th>\n",
              "      <th>59</th>\n",
              "      <th>60</th>\n",
              "    </tr>\n",
              "  </thead>\n",
              "  <tbody>\n",
              "    <tr>\n",
              "      <th>0</th>\n",
              "      <td>0.0200</td>\n",
              "      <td>0.0371</td>\n",
              "      <td>0.0428</td>\n",
              "      <td>0.0207</td>\n",
              "      <td>0.0954</td>\n",
              "      <td>0.0986</td>\n",
              "      <td>0.1539</td>\n",
              "      <td>0.1601</td>\n",
              "      <td>0.3109</td>\n",
              "      <td>0.2111</td>\n",
              "      <td>...</td>\n",
              "      <td>0.0027</td>\n",
              "      <td>0.0065</td>\n",
              "      <td>0.0159</td>\n",
              "      <td>0.0072</td>\n",
              "      <td>0.0167</td>\n",
              "      <td>0.0180</td>\n",
              "      <td>0.0084</td>\n",
              "      <td>0.0090</td>\n",
              "      <td>0.0032</td>\n",
              "      <td>R</td>\n",
              "    </tr>\n",
              "    <tr>\n",
              "      <th>1</th>\n",
              "      <td>0.0453</td>\n",
              "      <td>0.0523</td>\n",
              "      <td>0.0843</td>\n",
              "      <td>0.0689</td>\n",
              "      <td>0.1183</td>\n",
              "      <td>0.2583</td>\n",
              "      <td>0.2156</td>\n",
              "      <td>0.3481</td>\n",
              "      <td>0.3337</td>\n",
              "      <td>0.2872</td>\n",
              "      <td>...</td>\n",
              "      <td>0.0084</td>\n",
              "      <td>0.0089</td>\n",
              "      <td>0.0048</td>\n",
              "      <td>0.0094</td>\n",
              "      <td>0.0191</td>\n",
              "      <td>0.0140</td>\n",
              "      <td>0.0049</td>\n",
              "      <td>0.0052</td>\n",
              "      <td>0.0044</td>\n",
              "      <td>R</td>\n",
              "    </tr>\n",
              "    <tr>\n",
              "      <th>2</th>\n",
              "      <td>0.0262</td>\n",
              "      <td>0.0582</td>\n",
              "      <td>0.1099</td>\n",
              "      <td>0.1083</td>\n",
              "      <td>0.0974</td>\n",
              "      <td>0.2280</td>\n",
              "      <td>0.2431</td>\n",
              "      <td>0.3771</td>\n",
              "      <td>0.5598</td>\n",
              "      <td>0.6194</td>\n",
              "      <td>...</td>\n",
              "      <td>0.0232</td>\n",
              "      <td>0.0166</td>\n",
              "      <td>0.0095</td>\n",
              "      <td>0.0180</td>\n",
              "      <td>0.0244</td>\n",
              "      <td>0.0316</td>\n",
              "      <td>0.0164</td>\n",
              "      <td>0.0095</td>\n",
              "      <td>0.0078</td>\n",
              "      <td>R</td>\n",
              "    </tr>\n",
              "    <tr>\n",
              "      <th>3</th>\n",
              "      <td>0.0100</td>\n",
              "      <td>0.0171</td>\n",
              "      <td>0.0623</td>\n",
              "      <td>0.0205</td>\n",
              "      <td>0.0205</td>\n",
              "      <td>0.0368</td>\n",
              "      <td>0.1098</td>\n",
              "      <td>0.1276</td>\n",
              "      <td>0.0598</td>\n",
              "      <td>0.1264</td>\n",
              "      <td>...</td>\n",
              "      <td>0.0121</td>\n",
              "      <td>0.0036</td>\n",
              "      <td>0.0150</td>\n",
              "      <td>0.0085</td>\n",
              "      <td>0.0073</td>\n",
              "      <td>0.0050</td>\n",
              "      <td>0.0044</td>\n",
              "      <td>0.0040</td>\n",
              "      <td>0.0117</td>\n",
              "      <td>R</td>\n",
              "    </tr>\n",
              "    <tr>\n",
              "      <th>4</th>\n",
              "      <td>0.0762</td>\n",
              "      <td>0.0666</td>\n",
              "      <td>0.0481</td>\n",
              "      <td>0.0394</td>\n",
              "      <td>0.0590</td>\n",
              "      <td>0.0649</td>\n",
              "      <td>0.1209</td>\n",
              "      <td>0.2467</td>\n",
              "      <td>0.3564</td>\n",
              "      <td>0.4459</td>\n",
              "      <td>...</td>\n",
              "      <td>0.0031</td>\n",
              "      <td>0.0054</td>\n",
              "      <td>0.0105</td>\n",
              "      <td>0.0110</td>\n",
              "      <td>0.0015</td>\n",
              "      <td>0.0072</td>\n",
              "      <td>0.0048</td>\n",
              "      <td>0.0107</td>\n",
              "      <td>0.0094</td>\n",
              "      <td>R</td>\n",
              "    </tr>\n",
              "  </tbody>\n",
              "</table>\n",
              "<p>5 rows × 61 columns</p>\n",
              "</div>\n",
              "      <button class=\"colab-df-convert\" onclick=\"convertToInteractive('df-f551adc5-28e7-44ab-907c-09b2fc351c3c')\"\n",
              "              title=\"Convert this dataframe to an interactive table.\"\n",
              "              style=\"display:none;\">\n",
              "        \n",
              "  <svg xmlns=\"http://www.w3.org/2000/svg\" height=\"24px\"viewBox=\"0 0 24 24\"\n",
              "       width=\"24px\">\n",
              "    <path d=\"M0 0h24v24H0V0z\" fill=\"none\"/>\n",
              "    <path d=\"M18.56 5.44l.94 2.06.94-2.06 2.06-.94-2.06-.94-.94-2.06-.94 2.06-2.06.94zm-11 1L8.5 8.5l.94-2.06 2.06-.94-2.06-.94L8.5 2.5l-.94 2.06-2.06.94zm10 10l.94 2.06.94-2.06 2.06-.94-2.06-.94-.94-2.06-.94 2.06-2.06.94z\"/><path d=\"M17.41 7.96l-1.37-1.37c-.4-.4-.92-.59-1.43-.59-.52 0-1.04.2-1.43.59L10.3 9.45l-7.72 7.72c-.78.78-.78 2.05 0 2.83L4 21.41c.39.39.9.59 1.41.59.51 0 1.02-.2 1.41-.59l7.78-7.78 2.81-2.81c.8-.78.8-2.07 0-2.86zM5.41 20L4 18.59l7.72-7.72 1.47 1.35L5.41 20z\"/>\n",
              "  </svg>\n",
              "      </button>\n",
              "      \n",
              "  <style>\n",
              "    .colab-df-container {\n",
              "      display:flex;\n",
              "      flex-wrap:wrap;\n",
              "      gap: 12px;\n",
              "    }\n",
              "\n",
              "    .colab-df-convert {\n",
              "      background-color: #E8F0FE;\n",
              "      border: none;\n",
              "      border-radius: 50%;\n",
              "      cursor: pointer;\n",
              "      display: none;\n",
              "      fill: #1967D2;\n",
              "      height: 32px;\n",
              "      padding: 0 0 0 0;\n",
              "      width: 32px;\n",
              "    }\n",
              "\n",
              "    .colab-df-convert:hover {\n",
              "      background-color: #E2EBFA;\n",
              "      box-shadow: 0px 1px 2px rgba(60, 64, 67, 0.3), 0px 1px 3px 1px rgba(60, 64, 67, 0.15);\n",
              "      fill: #174EA6;\n",
              "    }\n",
              "\n",
              "    [theme=dark] .colab-df-convert {\n",
              "      background-color: #3B4455;\n",
              "      fill: #D2E3FC;\n",
              "    }\n",
              "\n",
              "    [theme=dark] .colab-df-convert:hover {\n",
              "      background-color: #434B5C;\n",
              "      box-shadow: 0px 1px 3px 1px rgba(0, 0, 0, 0.15);\n",
              "      filter: drop-shadow(0px 1px 2px rgba(0, 0, 0, 0.3));\n",
              "      fill: #FFFFFF;\n",
              "    }\n",
              "  </style>\n",
              "\n",
              "      <script>\n",
              "        const buttonEl =\n",
              "          document.querySelector('#df-f551adc5-28e7-44ab-907c-09b2fc351c3c button.colab-df-convert');\n",
              "        buttonEl.style.display =\n",
              "          google.colab.kernel.accessAllowed ? 'block' : 'none';\n",
              "\n",
              "        async function convertToInteractive(key) {\n",
              "          const element = document.querySelector('#df-f551adc5-28e7-44ab-907c-09b2fc351c3c');\n",
              "          const dataTable =\n",
              "            await google.colab.kernel.invokeFunction('convertToInteractive',\n",
              "                                                     [key], {});\n",
              "          if (!dataTable) return;\n",
              "\n",
              "          const docLinkHtml = 'Like what you see? Visit the ' +\n",
              "            '<a target=\"_blank\" href=https://colab.research.google.com/notebooks/data_table.ipynb>data table notebook</a>'\n",
              "            + ' to learn more about interactive tables.';\n",
              "          element.innerHTML = '';\n",
              "          dataTable['output_type'] = 'display_data';\n",
              "          await google.colab.output.renderOutput(dataTable, element);\n",
              "          const docLink = document.createElement('div');\n",
              "          docLink.innerHTML = docLinkHtml;\n",
              "          element.appendChild(docLink);\n",
              "        }\n",
              "      </script>\n",
              "    </div>\n",
              "  </div>\n",
              "  "
            ]
          },
          "metadata": {},
          "execution_count": 29
        }
      ]
    },
    {
      "cell_type": "code",
      "source": [
        "df.tail()"
      ],
      "metadata": {
        "colab": {
          "base_uri": "https://localhost:8080/",
          "height": 300
        },
        "id": "Pu4tEgZPunZC",
        "outputId": "bb4c18ba-7d7c-469d-fe36-a4df7c6d7605"
      },
      "execution_count": 20,
      "outputs": [
        {
          "output_type": "execute_result",
          "data": {
            "text/plain": [
              "     0.0200  0.0371  0.0428  0.0207  0.0954  0.0986  0.1539  0.1601  0.3109  \\\n",
              "202  0.0187  0.0346  0.0168  0.0177  0.0393  0.1630  0.2028  0.1694  0.2328   \n",
              "203  0.0323  0.0101  0.0298  0.0564  0.0760  0.0958  0.0990  0.1018  0.1030   \n",
              "204  0.0522  0.0437  0.0180  0.0292  0.0351  0.1171  0.1257  0.1178  0.1258   \n",
              "205  0.0303  0.0353  0.0490  0.0608  0.0167  0.1354  0.1465  0.1123  0.1945   \n",
              "206  0.0260  0.0363  0.0136  0.0272  0.0214  0.0338  0.0655  0.1400  0.1843   \n",
              "\n",
              "     0.2111  ...  0.0027  0.0065  0.0159  0.0072  0.0167  0.0180  0.0084  \\\n",
              "202  0.2684  ...  0.0116  0.0098  0.0199  0.0033  0.0101  0.0065  0.0115   \n",
              "203  0.2154  ...  0.0061  0.0093  0.0135  0.0063  0.0063  0.0034  0.0032   \n",
              "204  0.2529  ...  0.0160  0.0029  0.0051  0.0062  0.0089  0.0140  0.0138   \n",
              "205  0.2354  ...  0.0086  0.0046  0.0126  0.0036  0.0035  0.0034  0.0079   \n",
              "206  0.2354  ...  0.0146  0.0129  0.0047  0.0039  0.0061  0.0040  0.0036   \n",
              "\n",
              "     0.0090  0.0032  R  \n",
              "202  0.0193  0.0157  M  \n",
              "203  0.0062  0.0067  M  \n",
              "204  0.0077  0.0031  M  \n",
              "205  0.0036  0.0048  M  \n",
              "206  0.0061  0.0115  M  \n",
              "\n",
              "[5 rows x 61 columns]"
            ],
            "text/html": [
              "\n",
              "  <div id=\"df-3aaf53ae-a714-46e2-91c6-39ac121f9c56\">\n",
              "    <div class=\"colab-df-container\">\n",
              "      <div>\n",
              "<style scoped>\n",
              "    .dataframe tbody tr th:only-of-type {\n",
              "        vertical-align: middle;\n",
              "    }\n",
              "\n",
              "    .dataframe tbody tr th {\n",
              "        vertical-align: top;\n",
              "    }\n",
              "\n",
              "    .dataframe thead th {\n",
              "        text-align: right;\n",
              "    }\n",
              "</style>\n",
              "<table border=\"1\" class=\"dataframe\">\n",
              "  <thead>\n",
              "    <tr style=\"text-align: right;\">\n",
              "      <th></th>\n",
              "      <th>0.0200</th>\n",
              "      <th>0.0371</th>\n",
              "      <th>0.0428</th>\n",
              "      <th>0.0207</th>\n",
              "      <th>0.0954</th>\n",
              "      <th>0.0986</th>\n",
              "      <th>0.1539</th>\n",
              "      <th>0.1601</th>\n",
              "      <th>0.3109</th>\n",
              "      <th>0.2111</th>\n",
              "      <th>...</th>\n",
              "      <th>0.0027</th>\n",
              "      <th>0.0065</th>\n",
              "      <th>0.0159</th>\n",
              "      <th>0.0072</th>\n",
              "      <th>0.0167</th>\n",
              "      <th>0.0180</th>\n",
              "      <th>0.0084</th>\n",
              "      <th>0.0090</th>\n",
              "      <th>0.0032</th>\n",
              "      <th>R</th>\n",
              "    </tr>\n",
              "  </thead>\n",
              "  <tbody>\n",
              "    <tr>\n",
              "      <th>202</th>\n",
              "      <td>0.0187</td>\n",
              "      <td>0.0346</td>\n",
              "      <td>0.0168</td>\n",
              "      <td>0.0177</td>\n",
              "      <td>0.0393</td>\n",
              "      <td>0.1630</td>\n",
              "      <td>0.2028</td>\n",
              "      <td>0.1694</td>\n",
              "      <td>0.2328</td>\n",
              "      <td>0.2684</td>\n",
              "      <td>...</td>\n",
              "      <td>0.0116</td>\n",
              "      <td>0.0098</td>\n",
              "      <td>0.0199</td>\n",
              "      <td>0.0033</td>\n",
              "      <td>0.0101</td>\n",
              "      <td>0.0065</td>\n",
              "      <td>0.0115</td>\n",
              "      <td>0.0193</td>\n",
              "      <td>0.0157</td>\n",
              "      <td>M</td>\n",
              "    </tr>\n",
              "    <tr>\n",
              "      <th>203</th>\n",
              "      <td>0.0323</td>\n",
              "      <td>0.0101</td>\n",
              "      <td>0.0298</td>\n",
              "      <td>0.0564</td>\n",
              "      <td>0.0760</td>\n",
              "      <td>0.0958</td>\n",
              "      <td>0.0990</td>\n",
              "      <td>0.1018</td>\n",
              "      <td>0.1030</td>\n",
              "      <td>0.2154</td>\n",
              "      <td>...</td>\n",
              "      <td>0.0061</td>\n",
              "      <td>0.0093</td>\n",
              "      <td>0.0135</td>\n",
              "      <td>0.0063</td>\n",
              "      <td>0.0063</td>\n",
              "      <td>0.0034</td>\n",
              "      <td>0.0032</td>\n",
              "      <td>0.0062</td>\n",
              "      <td>0.0067</td>\n",
              "      <td>M</td>\n",
              "    </tr>\n",
              "    <tr>\n",
              "      <th>204</th>\n",
              "      <td>0.0522</td>\n",
              "      <td>0.0437</td>\n",
              "      <td>0.0180</td>\n",
              "      <td>0.0292</td>\n",
              "      <td>0.0351</td>\n",
              "      <td>0.1171</td>\n",
              "      <td>0.1257</td>\n",
              "      <td>0.1178</td>\n",
              "      <td>0.1258</td>\n",
              "      <td>0.2529</td>\n",
              "      <td>...</td>\n",
              "      <td>0.0160</td>\n",
              "      <td>0.0029</td>\n",
              "      <td>0.0051</td>\n",
              "      <td>0.0062</td>\n",
              "      <td>0.0089</td>\n",
              "      <td>0.0140</td>\n",
              "      <td>0.0138</td>\n",
              "      <td>0.0077</td>\n",
              "      <td>0.0031</td>\n",
              "      <td>M</td>\n",
              "    </tr>\n",
              "    <tr>\n",
              "      <th>205</th>\n",
              "      <td>0.0303</td>\n",
              "      <td>0.0353</td>\n",
              "      <td>0.0490</td>\n",
              "      <td>0.0608</td>\n",
              "      <td>0.0167</td>\n",
              "      <td>0.1354</td>\n",
              "      <td>0.1465</td>\n",
              "      <td>0.1123</td>\n",
              "      <td>0.1945</td>\n",
              "      <td>0.2354</td>\n",
              "      <td>...</td>\n",
              "      <td>0.0086</td>\n",
              "      <td>0.0046</td>\n",
              "      <td>0.0126</td>\n",
              "      <td>0.0036</td>\n",
              "      <td>0.0035</td>\n",
              "      <td>0.0034</td>\n",
              "      <td>0.0079</td>\n",
              "      <td>0.0036</td>\n",
              "      <td>0.0048</td>\n",
              "      <td>M</td>\n",
              "    </tr>\n",
              "    <tr>\n",
              "      <th>206</th>\n",
              "      <td>0.0260</td>\n",
              "      <td>0.0363</td>\n",
              "      <td>0.0136</td>\n",
              "      <td>0.0272</td>\n",
              "      <td>0.0214</td>\n",
              "      <td>0.0338</td>\n",
              "      <td>0.0655</td>\n",
              "      <td>0.1400</td>\n",
              "      <td>0.1843</td>\n",
              "      <td>0.2354</td>\n",
              "      <td>...</td>\n",
              "      <td>0.0146</td>\n",
              "      <td>0.0129</td>\n",
              "      <td>0.0047</td>\n",
              "      <td>0.0039</td>\n",
              "      <td>0.0061</td>\n",
              "      <td>0.0040</td>\n",
              "      <td>0.0036</td>\n",
              "      <td>0.0061</td>\n",
              "      <td>0.0115</td>\n",
              "      <td>M</td>\n",
              "    </tr>\n",
              "  </tbody>\n",
              "</table>\n",
              "<p>5 rows × 61 columns</p>\n",
              "</div>\n",
              "      <button class=\"colab-df-convert\" onclick=\"convertToInteractive('df-3aaf53ae-a714-46e2-91c6-39ac121f9c56')\"\n",
              "              title=\"Convert this dataframe to an interactive table.\"\n",
              "              style=\"display:none;\">\n",
              "        \n",
              "  <svg xmlns=\"http://www.w3.org/2000/svg\" height=\"24px\"viewBox=\"0 0 24 24\"\n",
              "       width=\"24px\">\n",
              "    <path d=\"M0 0h24v24H0V0z\" fill=\"none\"/>\n",
              "    <path d=\"M18.56 5.44l.94 2.06.94-2.06 2.06-.94-2.06-.94-.94-2.06-.94 2.06-2.06.94zm-11 1L8.5 8.5l.94-2.06 2.06-.94-2.06-.94L8.5 2.5l-.94 2.06-2.06.94zm10 10l.94 2.06.94-2.06 2.06-.94-2.06-.94-.94-2.06-.94 2.06-2.06.94z\"/><path d=\"M17.41 7.96l-1.37-1.37c-.4-.4-.92-.59-1.43-.59-.52 0-1.04.2-1.43.59L10.3 9.45l-7.72 7.72c-.78.78-.78 2.05 0 2.83L4 21.41c.39.39.9.59 1.41.59.51 0 1.02-.2 1.41-.59l7.78-7.78 2.81-2.81c.8-.78.8-2.07 0-2.86zM5.41 20L4 18.59l7.72-7.72 1.47 1.35L5.41 20z\"/>\n",
              "  </svg>\n",
              "      </button>\n",
              "      \n",
              "  <style>\n",
              "    .colab-df-container {\n",
              "      display:flex;\n",
              "      flex-wrap:wrap;\n",
              "      gap: 12px;\n",
              "    }\n",
              "\n",
              "    .colab-df-convert {\n",
              "      background-color: #E8F0FE;\n",
              "      border: none;\n",
              "      border-radius: 50%;\n",
              "      cursor: pointer;\n",
              "      display: none;\n",
              "      fill: #1967D2;\n",
              "      height: 32px;\n",
              "      padding: 0 0 0 0;\n",
              "      width: 32px;\n",
              "    }\n",
              "\n",
              "    .colab-df-convert:hover {\n",
              "      background-color: #E2EBFA;\n",
              "      box-shadow: 0px 1px 2px rgba(60, 64, 67, 0.3), 0px 1px 3px 1px rgba(60, 64, 67, 0.15);\n",
              "      fill: #174EA6;\n",
              "    }\n",
              "\n",
              "    [theme=dark] .colab-df-convert {\n",
              "      background-color: #3B4455;\n",
              "      fill: #D2E3FC;\n",
              "    }\n",
              "\n",
              "    [theme=dark] .colab-df-convert:hover {\n",
              "      background-color: #434B5C;\n",
              "      box-shadow: 0px 1px 3px 1px rgba(0, 0, 0, 0.15);\n",
              "      filter: drop-shadow(0px 1px 2px rgba(0, 0, 0, 0.3));\n",
              "      fill: #FFFFFF;\n",
              "    }\n",
              "  </style>\n",
              "\n",
              "      <script>\n",
              "        const buttonEl =\n",
              "          document.querySelector('#df-3aaf53ae-a714-46e2-91c6-39ac121f9c56 button.colab-df-convert');\n",
              "        buttonEl.style.display =\n",
              "          google.colab.kernel.accessAllowed ? 'block' : 'none';\n",
              "\n",
              "        async function convertToInteractive(key) {\n",
              "          const element = document.querySelector('#df-3aaf53ae-a714-46e2-91c6-39ac121f9c56');\n",
              "          const dataTable =\n",
              "            await google.colab.kernel.invokeFunction('convertToInteractive',\n",
              "                                                     [key], {});\n",
              "          if (!dataTable) return;\n",
              "\n",
              "          const docLinkHtml = 'Like what you see? Visit the ' +\n",
              "            '<a target=\"_blank\" href=https://colab.research.google.com/notebooks/data_table.ipynb>data table notebook</a>'\n",
              "            + ' to learn more about interactive tables.';\n",
              "          element.innerHTML = '';\n",
              "          dataTable['output_type'] = 'display_data';\n",
              "          await google.colab.output.renderOutput(dataTable, element);\n",
              "          const docLink = document.createElement('div');\n",
              "          docLink.innerHTML = docLinkHtml;\n",
              "          element.appendChild(docLink);\n",
              "        }\n",
              "      </script>\n",
              "    </div>\n",
              "  </div>\n",
              "  "
            ]
          },
          "metadata": {},
          "execution_count": 20
        }
      ]
    },
    {
      "cell_type": "code",
      "source": [
        "# null values\n",
        "df.isnull().sum()"
      ],
      "metadata": {
        "colab": {
          "base_uri": "https://localhost:8080/"
        },
        "id": "0RkE0fWlu3v7",
        "outputId": "16a8fabb-966b-4a27-d891-c34ff7ec8c54"
      },
      "execution_count": 30,
      "outputs": [
        {
          "output_type": "execute_result",
          "data": {
            "text/plain": [
              "0     0\n",
              "1     0\n",
              "2     0\n",
              "3     0\n",
              "4     0\n",
              "     ..\n",
              "56    0\n",
              "57    0\n",
              "58    0\n",
              "59    0\n",
              "60    0\n",
              "Length: 61, dtype: int64"
            ]
          },
          "metadata": {},
          "execution_count": 30
        }
      ]
    },
    {
      "cell_type": "markdown",
      "source": [
        "No null values\n",
        "\n",
        "No categorical values\n"
      ],
      "metadata": {
        "id": "T2YwTG3ozS1L"
      }
    },
    {
      "cell_type": "code",
      "source": [
        "df.corr()"
      ],
      "metadata": {
        "colab": {
          "base_uri": "https://localhost:8080/",
          "height": 1000
        },
        "id": "XqulgNiqzQ6Z",
        "outputId": "a6150826-84d5-4628-854f-e35dd23dd75c"
      },
      "execution_count": 31,
      "outputs": [
        {
          "output_type": "execute_result",
          "data": {
            "text/plain": [
              "          0         1         2         3         4         5         6   \\\n",
              "0   1.000000  0.735896  0.571537  0.491438  0.344797  0.238921  0.260815   \n",
              "1   0.735896  1.000000  0.779916  0.606684  0.419669  0.332329  0.279040   \n",
              "2   0.571537  0.779916  1.000000  0.781786  0.546141  0.346275  0.190434   \n",
              "3   0.491438  0.606684  0.781786  1.000000  0.726943  0.352805  0.246440   \n",
              "4   0.344797  0.419669  0.546141  0.726943  1.000000  0.597053  0.335422   \n",
              "5   0.238921  0.332329  0.346275  0.352805  0.597053  1.000000  0.702889   \n",
              "6   0.260815  0.279040  0.190434  0.246440  0.335422  0.702889  1.000000   \n",
              "7   0.355523  0.334615  0.237884  0.246742  0.204006  0.471683  0.675774   \n",
              "8   0.353420  0.316733  0.252691  0.247078  0.177906  0.327578  0.470580   \n",
              "9   0.318276  0.270782  0.219637  0.237769  0.183219  0.288621  0.425448   \n",
              "10  0.344058  0.297065  0.274610  0.271881  0.231684  0.333570  0.396588   \n",
              "11  0.210861  0.194102  0.214807  0.175381  0.211657  0.344451  0.274432   \n",
              "12  0.210722  0.249596  0.258767  0.215754  0.299086  0.411107  0.365391   \n",
              "13  0.256278  0.273170  0.291724  0.286708  0.359062  0.396233  0.409576   \n",
              "14  0.304878  0.307599  0.285663  0.278529  0.318059  0.367908  0.411692   \n",
              "15  0.239079  0.261844  0.237017  0.248245  0.328725  0.353783  0.363086   \n",
              "16  0.137845  0.152170  0.201093  0.223203  0.326477  0.293190  0.250024   \n",
              "17  0.041817  0.042870  0.120587  0.194992  0.299266  0.235778  0.208057   \n",
              "18  0.055227  0.040911  0.099303  0.189405  0.340543  0.226305  0.215495   \n",
              "19  0.156760  0.102428  0.103117  0.188317  0.285737  0.206841  0.196496   \n",
              "20  0.117663  0.075255  0.063990  0.142271  0.205088  0.174768  0.165827   \n",
              "21 -0.056973 -0.074157 -0.026815  0.036010  0.152897  0.123770  0.063773   \n",
              "22 -0.163426 -0.179365 -0.073400 -0.029749  0.073934  0.064081  0.009359   \n",
              "23 -0.218093 -0.196469 -0.085380 -0.102975 -0.000624  0.027026  0.011982   \n",
              "24 -0.295683 -0.295302 -0.214256 -0.206673 -0.067296 -0.043280 -0.057147   \n",
              "25 -0.342865 -0.365749 -0.291974 -0.291357 -0.125675 -0.100309 -0.126074   \n",
              "26 -0.341703 -0.337046 -0.263111 -0.294749 -0.169618 -0.129094 -0.179526   \n",
              "27 -0.224340 -0.234386 -0.256674 -0.256074 -0.214692 -0.118645 -0.116848   \n",
              "28 -0.199099 -0.228490 -0.290728 -0.300476 -0.283863 -0.156081 -0.129694   \n",
              "29 -0.077430 -0.115301 -0.197493 -0.236602 -0.273350 -0.151186 -0.068142   \n",
              "30 -0.048370 -0.055862 -0.106198 -0.190086 -0.214336 -0.054136 -0.096945   \n",
              "31 -0.030444 -0.049683 -0.109895 -0.169987 -0.173485 -0.051934 -0.115871   \n",
              "32 -0.031939 -0.108272 -0.170671 -0.164651 -0.200586 -0.144391 -0.127052   \n",
              "33  0.031319 -0.004247 -0.099409 -0.083965 -0.140559 -0.070337 -0.077662   \n",
              "34  0.098118  0.115824  0.017053  0.015200 -0.086529 -0.028815 -0.015531   \n",
              "35  0.080722  0.132611  0.053070  0.039282 -0.073481 -0.023621  0.002979   \n",
              "36  0.119565  0.169186  0.107530  0.063486 -0.064617 -0.064798 -0.001376   \n",
              "37  0.209873  0.217494  0.130276  0.089887 -0.008620 -0.048745  0.065900   \n",
              "38  0.208371  0.186828  0.110499  0.089346  0.063408  0.030599  0.080942   \n",
              "39  0.099993  0.098350  0.074137  0.045141  0.061616  0.081119  0.112673   \n",
              "40  0.127313  0.188226  0.189047  0.145241  0.098832  0.075797  0.041071   \n",
              "41  0.213592  0.261345  0.233442  0.144693  0.125181  0.048763 -0.028720   \n",
              "42  0.206057  0.186368  0.113920  0.050629  0.063706  0.034380 -0.025727   \n",
              "43  0.157949  0.133018  0.071946 -0.008407  0.031575  0.048870  0.061404   \n",
              "44  0.279968  0.285716  0.180734  0.087824  0.089202  0.085468  0.110813   \n",
              "45  0.319354  0.304247  0.173649  0.080012  0.081964  0.029524  0.076537   \n",
              "46  0.230343  0.255797  0.179528  0.046109  0.041419  0.016640  0.098925   \n",
              "47  0.203234  0.265279  0.234896  0.121065  0.084435  0.067196  0.155221   \n",
              "48  0.247560  0.313995  0.223074  0.133294  0.088128  0.080729  0.194720   \n",
              "49  0.269287  0.245868  0.081096  0.077925  0.066751  0.017300  0.166112   \n",
              "50  0.254450  0.320538  0.238110  0.174676  0.115936  0.171767  0.184152   \n",
              "51  0.355299  0.434548  0.394076  0.374651  0.266617  0.252288  0.144051   \n",
              "52  0.311729  0.346076  0.332914  0.364772  0.314985  0.162404  0.046403   \n",
              "53  0.322299  0.383960  0.367186  0.334211  0.205306  0.164073  0.163074   \n",
              "54  0.312067  0.380165  0.289731  0.284955  0.196472  0.133464  0.195541   \n",
              "55  0.220642  0.262263  0.287661  0.280938  0.199323  0.166758  0.174143   \n",
              "56  0.313725  0.280341  0.380819  0.340254  0.219395  0.161333  0.186324   \n",
              "57  0.368132  0.353042  0.334108  0.344865  0.238793  0.203986  0.242646   \n",
              "58  0.357116  0.352200  0.425047  0.420266  0.290982  0.220573  0.183578   \n",
              "59  0.347078  0.358761  0.373948  0.400626  0.253710  0.178158  0.222493   \n",
              "\n",
              "          7         8         9   ...        50        51        52        53  \\\n",
              "0   0.355523  0.353420  0.318276  ...  0.254450  0.355299  0.311729  0.322299   \n",
              "1   0.334615  0.316733  0.270782  ...  0.320538  0.434548  0.346076  0.383960   \n",
              "2   0.237884  0.252691  0.219637  ...  0.238110  0.394076  0.332914  0.367186   \n",
              "3   0.246742  0.247078  0.237769  ...  0.174676  0.374651  0.364772  0.334211   \n",
              "4   0.204006  0.177906  0.183219  ...  0.115936  0.266617  0.314985  0.205306   \n",
              "5   0.471683  0.327578  0.288621  ...  0.171767  0.252288  0.162404  0.164073   \n",
              "6   0.675774  0.470580  0.425448  ...  0.184152  0.144051  0.046403  0.163074   \n",
              "7   1.000000  0.778577  0.652525  ...  0.260692  0.219038  0.102447  0.234008   \n",
              "8   0.778577  1.000000  0.877131  ...  0.174873  0.207996  0.105352  0.202615   \n",
              "9   0.652525  0.877131  1.000000  ...  0.167096  0.165537  0.097544  0.146725   \n",
              "10  0.584583  0.728063  0.853140  ...  0.157615  0.165748  0.084801  0.142572   \n",
              "11  0.328329  0.363404  0.485392  ...  0.113418  0.117699  0.042263  0.078457   \n",
              "12  0.322951  0.316899  0.405370  ...  0.203347  0.147479  0.058599  0.160916   \n",
              "13  0.387114  0.329659  0.345684  ...  0.180464  0.137443  0.133196  0.210925   \n",
              "14  0.391514  0.299575  0.294699  ...  0.153162  0.135271  0.103444  0.218703   \n",
              "15  0.322237  0.241819  0.242869  ...  0.099892  0.104039  0.096325  0.206922   \n",
              "16  0.140912  0.100146  0.121264  ...  0.009036  0.020313  0.035635  0.129138   \n",
              "17  0.061333  0.027380  0.063745  ... -0.104656 -0.057236 -0.006627  0.072344   \n",
              "18  0.061825  0.067237  0.099632  ... -0.050988  0.011450  0.051367  0.120153   \n",
              "19  0.204950  0.266455  0.246924  ... -0.022960  0.028754  0.069692  0.171936   \n",
              "20  0.208785  0.264109  0.240862  ... -0.024222 -0.034845 -0.000270  0.167327   \n",
              "21  0.023786  0.019512  0.070381  ... -0.061054 -0.092204 -0.094203  0.045224   \n",
              "22 -0.092087 -0.154752 -0.094887  ... -0.108172 -0.108934 -0.152691 -0.055641   \n",
              "23 -0.124427 -0.189343 -0.178304  ... -0.143650 -0.175022 -0.225897 -0.125419   \n",
              "24 -0.196354 -0.198658 -0.179890  ... -0.200752 -0.250479 -0.238478 -0.219817   \n",
              "25 -0.203178 -0.137459 -0.109051  ... -0.191554 -0.256166 -0.248400 -0.277169   \n",
              "26 -0.233332 -0.119143 -0.095820  ... -0.137886 -0.191707 -0.259825 -0.269558   \n",
              "27 -0.120343 -0.028002 -0.052303  ... -0.027750 -0.064730 -0.148791 -0.213300   \n",
              "28 -0.139750 -0.093413 -0.137173  ... -0.000251 -0.054779 -0.130527 -0.235110   \n",
              "29 -0.017654  0.053398 -0.043998  ...  0.038928  0.039053 -0.034937 -0.149564   \n",
              "30 -0.081072 -0.041649 -0.091193  ...  0.048936  0.087360  0.026300 -0.146485   \n",
              "31 -0.108115 -0.028629 -0.058493  ...  0.059594  0.090863  0.017997 -0.089302   \n",
              "32 -0.087246 -0.017885 -0.027245  ... -0.002591  0.003084  0.029192 -0.037753   \n",
              "33 -0.014578  0.013594 -0.021291  ...  0.003386  0.008364  0.095110  0.064450   \n",
              "34  0.035733  0.015065 -0.035765  ...  0.018382  0.052650  0.122798  0.138357   \n",
              "35  0.087187  0.036120 -0.004460  ...  0.006165  0.023165  0.072182  0.136711   \n",
              "36  0.110739  0.111769  0.085072  ... -0.028291  0.002078  0.079799  0.130427   \n",
              "37  0.186609  0.223983  0.175717  ...  0.094205  0.134015  0.171104  0.206931   \n",
              "38  0.206145  0.211897  0.233833  ...  0.124038  0.108564  0.167599  0.200116   \n",
              "39  0.184411  0.122735  0.177357  ...  0.066673  0.042677  0.128310  0.121381   \n",
              "40  0.097517  0.019589 -0.002523  ...  0.277471  0.255774  0.254064  0.181579   \n",
              "41  0.076054 -0.005785 -0.018880  ...  0.428751  0.359439  0.283622  0.214580   \n",
              "42  0.114721  0.052409  0.076138  ...  0.397190  0.302861  0.253203  0.155339   \n",
              "43  0.135426  0.215710  0.216742  ...  0.316501  0.217849  0.139544  0.095210   \n",
              "44  0.240176  0.320573  0.287459  ...  0.416973  0.350208  0.181292  0.162879   \n",
              "45  0.169099  0.195447  0.138447  ...  0.505304  0.429309  0.236971  0.187964   \n",
              "46  0.109744  0.084191  0.090662  ...  0.570575  0.398600  0.206970  0.159920   \n",
              "47  0.222783  0.225667  0.268123  ...  0.573572  0.365149  0.206376  0.209084   \n",
              "48  0.271422  0.222135  0.264885  ...  0.526095  0.319286  0.150871  0.195826   \n",
              "49  0.191615  0.150527  0.162010  ...  0.447926  0.341667  0.279681  0.280477   \n",
              "50  0.260692  0.174873  0.167096  ...  1.000000  0.627038  0.330396  0.384052   \n",
              "51  0.219038  0.207996  0.165537  ...  0.627038  1.000000  0.540414  0.343190   \n",
              "52  0.102447  0.105352  0.097544  ...  0.330396  0.540414  1.000000  0.412337   \n",
              "53  0.234008  0.202615  0.146725  ...  0.384052  0.343190  0.412337  1.000000   \n",
              "54  0.239551  0.179342  0.175254  ...  0.278935  0.337581  0.315656  0.455059   \n",
              "55  0.276819  0.232764  0.151889  ...  0.209752  0.203121  0.421588  0.397378   \n",
              "56  0.267212  0.193963  0.140327  ...  0.191407  0.191264  0.308197  0.361443   \n",
              "57  0.287603  0.231745  0.212277  ...  0.325665  0.309673  0.370764  0.404117   \n",
              "58  0.194400  0.097293  0.058273  ...  0.317942  0.298711  0.346095  0.447118   \n",
              "59  0.146216  0.095243  0.097358  ...  0.246764  0.195379  0.280780  0.283471   \n",
              "\n",
              "          54        55        56        57        58        59  \n",
              "0   0.312067  0.220642  0.313725  0.368132  0.357116  0.347078  \n",
              "1   0.380165  0.262263  0.280341  0.353042  0.352200  0.358761  \n",
              "2   0.289731  0.287661  0.380819  0.334108  0.425047  0.373948  \n",
              "3   0.284955  0.280938  0.340254  0.344865  0.420266  0.400626  \n",
              "4   0.196472  0.199323  0.219395  0.238793  0.290982  0.253710  \n",
              "5   0.133464  0.166758  0.161333  0.203986  0.220573  0.178158  \n",
              "6   0.195541  0.174143  0.186324  0.242646  0.183578  0.222493  \n",
              "7   0.239551  0.276819  0.267212  0.287603  0.194400  0.146216  \n",
              "8   0.179342  0.232764  0.193963  0.231745  0.097293  0.095243  \n",
              "9   0.175254  0.151889  0.140327  0.212277  0.058273  0.097358  \n",
              "10  0.228991  0.122332  0.103405  0.193358  0.067726  0.089695  \n",
              "11  0.164590  0.115658  0.030732  0.065273  0.044614  0.071364  \n",
              "12  0.272492  0.183743  0.057870  0.171140  0.151804  0.061411  \n",
              "13  0.326821  0.252166  0.190886  0.258675  0.209122  0.120966  \n",
              "14  0.261822  0.218395  0.202511  0.225545  0.193671  0.171089  \n",
              "15  0.240968  0.215478  0.191736  0.198019  0.182337  0.158438  \n",
              "16  0.168460  0.128968  0.145708  0.148563  0.121800  0.093992  \n",
              "17  0.093767  0.080812  0.056930  0.096022  0.028446  0.046617  \n",
              "18  0.099082  0.121331  0.045204  0.138365  0.023019  0.007468  \n",
              "19  0.157272  0.178498  0.066425  0.132453 -0.005364 -0.028540  \n",
              "20  0.059823  0.139089  0.030943  0.079818 -0.049413 -0.025201  \n",
              "21 -0.119720 -0.030877 -0.069909 -0.035829 -0.143209 -0.085696  \n",
              "22 -0.198577 -0.138900 -0.098291 -0.105235 -0.168149 -0.163696  \n",
              "23 -0.229297 -0.178320 -0.117429 -0.210556 -0.186527 -0.190877  \n",
              "24 -0.276419 -0.187789 -0.157967 -0.270222 -0.303155 -0.253233  \n",
              "25 -0.353657 -0.215894 -0.254240 -0.303427 -0.385725 -0.303949  \n",
              "26 -0.347931 -0.263403 -0.267069 -0.321868 -0.360340 -0.267596  \n",
              "27 -0.262620 -0.198093 -0.190854 -0.261443 -0.275442 -0.195130  \n",
              "28 -0.246181 -0.221273 -0.228155 -0.267938 -0.247318 -0.203776  \n",
              "29 -0.127523 -0.063403 -0.072976 -0.134302 -0.129402 -0.076100  \n",
              "30 -0.080546 -0.067373 -0.018733 -0.036092 -0.044197 -0.043015  \n",
              "31 -0.012792  0.017714  0.010611  0.018564  0.013499 -0.023863  \n",
              "32  0.000520  0.030027  0.045806  0.003712  0.054285 -0.015804  \n",
              "33  0.089024  0.109288  0.106959  0.083192  0.138214  0.075686  \n",
              "34  0.110776  0.131490  0.168361  0.143897  0.227783  0.191193  \n",
              "35  0.074314  0.069959  0.189471  0.106275  0.222683  0.176982  \n",
              "36  0.086914  0.116549  0.180789  0.110760  0.163162  0.166263  \n",
              "37  0.235457  0.217587  0.156320  0.169710  0.206001  0.233288  \n",
              "38  0.294578  0.223133  0.143131  0.218912  0.231150  0.222611  \n",
              "39  0.157435  0.150700  0.105603  0.143718  0.189058  0.202034  \n",
              "40  0.177851  0.220670  0.193532  0.196282  0.304521  0.281889  \n",
              "41  0.175505  0.157192  0.157646  0.201077  0.276762  0.220597  \n",
              "42  0.097671  0.123574  0.104120  0.210814  0.199334  0.161416  \n",
              "43  0.097255  0.133169  0.108185  0.109166  0.154547  0.108190  \n",
              "44  0.242757  0.170750  0.144281  0.167337  0.178402  0.157181  \n",
              "45  0.269119  0.178182  0.162125  0.237890  0.205291  0.180691  \n",
              "46  0.194223  0.146042  0.157815  0.240471  0.209045  0.139727  \n",
              "47  0.210950  0.219052  0.196814  0.270198  0.221425  0.123666  \n",
              "48  0.230033  0.155186  0.173098  0.328238  0.209152  0.088640  \n",
              "49  0.287612  0.235053  0.201609  0.342866  0.178118  0.139944  \n",
              "50  0.278935  0.209752  0.191407  0.325665  0.317942  0.246764  \n",
              "51  0.337581  0.203121  0.191264  0.309673  0.298711  0.195379  \n",
              "52  0.315656  0.421588  0.308197  0.370764  0.346095  0.280780  \n",
              "53  0.455059  0.397378  0.361443  0.404117  0.447118  0.283471  \n",
              "54  1.000000  0.429948  0.387204  0.503465  0.453658  0.264399  \n",
              "55  0.429948  1.000000  0.515154  0.463659  0.430804  0.349449  \n",
              "56  0.387204  0.515154  1.000000  0.509805  0.431295  0.287219  \n",
              "57  0.503465  0.463659  0.509805  1.000000  0.550235  0.329827  \n",
              "58  0.453658  0.430804  0.431295  0.550235  1.000000  0.642872  \n",
              "59  0.264399  0.349449  0.287219  0.329827  0.642872  1.000000  \n",
              "\n",
              "[60 rows x 60 columns]"
            ],
            "text/html": [
              "\n",
              "  <div id=\"df-0f31e14c-da70-4aa7-8133-6c93b1cdae29\">\n",
              "    <div class=\"colab-df-container\">\n",
              "      <div>\n",
              "<style scoped>\n",
              "    .dataframe tbody tr th:only-of-type {\n",
              "        vertical-align: middle;\n",
              "    }\n",
              "\n",
              "    .dataframe tbody tr th {\n",
              "        vertical-align: top;\n",
              "    }\n",
              "\n",
              "    .dataframe thead th {\n",
              "        text-align: right;\n",
              "    }\n",
              "</style>\n",
              "<table border=\"1\" class=\"dataframe\">\n",
              "  <thead>\n",
              "    <tr style=\"text-align: right;\">\n",
              "      <th></th>\n",
              "      <th>0</th>\n",
              "      <th>1</th>\n",
              "      <th>2</th>\n",
              "      <th>3</th>\n",
              "      <th>4</th>\n",
              "      <th>5</th>\n",
              "      <th>6</th>\n",
              "      <th>7</th>\n",
              "      <th>8</th>\n",
              "      <th>9</th>\n",
              "      <th>...</th>\n",
              "      <th>50</th>\n",
              "      <th>51</th>\n",
              "      <th>52</th>\n",
              "      <th>53</th>\n",
              "      <th>54</th>\n",
              "      <th>55</th>\n",
              "      <th>56</th>\n",
              "      <th>57</th>\n",
              "      <th>58</th>\n",
              "      <th>59</th>\n",
              "    </tr>\n",
              "  </thead>\n",
              "  <tbody>\n",
              "    <tr>\n",
              "      <th>0</th>\n",
              "      <td>1.000000</td>\n",
              "      <td>0.735896</td>\n",
              "      <td>0.571537</td>\n",
              "      <td>0.491438</td>\n",
              "      <td>0.344797</td>\n",
              "      <td>0.238921</td>\n",
              "      <td>0.260815</td>\n",
              "      <td>0.355523</td>\n",
              "      <td>0.353420</td>\n",
              "      <td>0.318276</td>\n",
              "      <td>...</td>\n",
              "      <td>0.254450</td>\n",
              "      <td>0.355299</td>\n",
              "      <td>0.311729</td>\n",
              "      <td>0.322299</td>\n",
              "      <td>0.312067</td>\n",
              "      <td>0.220642</td>\n",
              "      <td>0.313725</td>\n",
              "      <td>0.368132</td>\n",
              "      <td>0.357116</td>\n",
              "      <td>0.347078</td>\n",
              "    </tr>\n",
              "    <tr>\n",
              "      <th>1</th>\n",
              "      <td>0.735896</td>\n",
              "      <td>1.000000</td>\n",
              "      <td>0.779916</td>\n",
              "      <td>0.606684</td>\n",
              "      <td>0.419669</td>\n",
              "      <td>0.332329</td>\n",
              "      <td>0.279040</td>\n",
              "      <td>0.334615</td>\n",
              "      <td>0.316733</td>\n",
              "      <td>0.270782</td>\n",
              "      <td>...</td>\n",
              "      <td>0.320538</td>\n",
              "      <td>0.434548</td>\n",
              "      <td>0.346076</td>\n",
              "      <td>0.383960</td>\n",
              "      <td>0.380165</td>\n",
              "      <td>0.262263</td>\n",
              "      <td>0.280341</td>\n",
              "      <td>0.353042</td>\n",
              "      <td>0.352200</td>\n",
              "      <td>0.358761</td>\n",
              "    </tr>\n",
              "    <tr>\n",
              "      <th>2</th>\n",
              "      <td>0.571537</td>\n",
              "      <td>0.779916</td>\n",
              "      <td>1.000000</td>\n",
              "      <td>0.781786</td>\n",
              "      <td>0.546141</td>\n",
              "      <td>0.346275</td>\n",
              "      <td>0.190434</td>\n",
              "      <td>0.237884</td>\n",
              "      <td>0.252691</td>\n",
              "      <td>0.219637</td>\n",
              "      <td>...</td>\n",
              "      <td>0.238110</td>\n",
              "      <td>0.394076</td>\n",
              "      <td>0.332914</td>\n",
              "      <td>0.367186</td>\n",
              "      <td>0.289731</td>\n",
              "      <td>0.287661</td>\n",
              "      <td>0.380819</td>\n",
              "      <td>0.334108</td>\n",
              "      <td>0.425047</td>\n",
              "      <td>0.373948</td>\n",
              "    </tr>\n",
              "    <tr>\n",
              "      <th>3</th>\n",
              "      <td>0.491438</td>\n",
              "      <td>0.606684</td>\n",
              "      <td>0.781786</td>\n",
              "      <td>1.000000</td>\n",
              "      <td>0.726943</td>\n",
              "      <td>0.352805</td>\n",
              "      <td>0.246440</td>\n",
              "      <td>0.246742</td>\n",
              "      <td>0.247078</td>\n",
              "      <td>0.237769</td>\n",
              "      <td>...</td>\n",
              "      <td>0.174676</td>\n",
              "      <td>0.374651</td>\n",
              "      <td>0.364772</td>\n",
              "      <td>0.334211</td>\n",
              "      <td>0.284955</td>\n",
              "      <td>0.280938</td>\n",
              "      <td>0.340254</td>\n",
              "      <td>0.344865</td>\n",
              "      <td>0.420266</td>\n",
              "      <td>0.400626</td>\n",
              "    </tr>\n",
              "    <tr>\n",
              "      <th>4</th>\n",
              "      <td>0.344797</td>\n",
              "      <td>0.419669</td>\n",
              "      <td>0.546141</td>\n",
              "      <td>0.726943</td>\n",
              "      <td>1.000000</td>\n",
              "      <td>0.597053</td>\n",
              "      <td>0.335422</td>\n",
              "      <td>0.204006</td>\n",
              "      <td>0.177906</td>\n",
              "      <td>0.183219</td>\n",
              "      <td>...</td>\n",
              "      <td>0.115936</td>\n",
              "      <td>0.266617</td>\n",
              "      <td>0.314985</td>\n",
              "      <td>0.205306</td>\n",
              "      <td>0.196472</td>\n",
              "      <td>0.199323</td>\n",
              "      <td>0.219395</td>\n",
              "      <td>0.238793</td>\n",
              "      <td>0.290982</td>\n",
              "      <td>0.253710</td>\n",
              "    </tr>\n",
              "    <tr>\n",
              "      <th>5</th>\n",
              "      <td>0.238921</td>\n",
              "      <td>0.332329</td>\n",
              "      <td>0.346275</td>\n",
              "      <td>0.352805</td>\n",
              "      <td>0.597053</td>\n",
              "      <td>1.000000</td>\n",
              "      <td>0.702889</td>\n",
              "      <td>0.471683</td>\n",
              "      <td>0.327578</td>\n",
              "      <td>0.288621</td>\n",
              "      <td>...</td>\n",
              "      <td>0.171767</td>\n",
              "      <td>0.252288</td>\n",
              "      <td>0.162404</td>\n",
              "      <td>0.164073</td>\n",
              "      <td>0.133464</td>\n",
              "      <td>0.166758</td>\n",
              "      <td>0.161333</td>\n",
              "      <td>0.203986</td>\n",
              "      <td>0.220573</td>\n",
              "      <td>0.178158</td>\n",
              "    </tr>\n",
              "    <tr>\n",
              "      <th>6</th>\n",
              "      <td>0.260815</td>\n",
              "      <td>0.279040</td>\n",
              "      <td>0.190434</td>\n",
              "      <td>0.246440</td>\n",
              "      <td>0.335422</td>\n",
              "      <td>0.702889</td>\n",
              "      <td>1.000000</td>\n",
              "      <td>0.675774</td>\n",
              "      <td>0.470580</td>\n",
              "      <td>0.425448</td>\n",
              "      <td>...</td>\n",
              "      <td>0.184152</td>\n",
              "      <td>0.144051</td>\n",
              "      <td>0.046403</td>\n",
              "      <td>0.163074</td>\n",
              "      <td>0.195541</td>\n",
              "      <td>0.174143</td>\n",
              "      <td>0.186324</td>\n",
              "      <td>0.242646</td>\n",
              "      <td>0.183578</td>\n",
              "      <td>0.222493</td>\n",
              "    </tr>\n",
              "    <tr>\n",
              "      <th>7</th>\n",
              "      <td>0.355523</td>\n",
              "      <td>0.334615</td>\n",
              "      <td>0.237884</td>\n",
              "      <td>0.246742</td>\n",
              "      <td>0.204006</td>\n",
              "      <td>0.471683</td>\n",
              "      <td>0.675774</td>\n",
              "      <td>1.000000</td>\n",
              "      <td>0.778577</td>\n",
              "      <td>0.652525</td>\n",
              "      <td>...</td>\n",
              "      <td>0.260692</td>\n",
              "      <td>0.219038</td>\n",
              "      <td>0.102447</td>\n",
              "      <td>0.234008</td>\n",
              "      <td>0.239551</td>\n",
              "      <td>0.276819</td>\n",
              "      <td>0.267212</td>\n",
              "      <td>0.287603</td>\n",
              "      <td>0.194400</td>\n",
              "      <td>0.146216</td>\n",
              "    </tr>\n",
              "    <tr>\n",
              "      <th>8</th>\n",
              "      <td>0.353420</td>\n",
              "      <td>0.316733</td>\n",
              "      <td>0.252691</td>\n",
              "      <td>0.247078</td>\n",
              "      <td>0.177906</td>\n",
              "      <td>0.327578</td>\n",
              "      <td>0.470580</td>\n",
              "      <td>0.778577</td>\n",
              "      <td>1.000000</td>\n",
              "      <td>0.877131</td>\n",
              "      <td>...</td>\n",
              "      <td>0.174873</td>\n",
              "      <td>0.207996</td>\n",
              "      <td>0.105352</td>\n",
              "      <td>0.202615</td>\n",
              "      <td>0.179342</td>\n",
              "      <td>0.232764</td>\n",
              "      <td>0.193963</td>\n",
              "      <td>0.231745</td>\n",
              "      <td>0.097293</td>\n",
              "      <td>0.095243</td>\n",
              "    </tr>\n",
              "    <tr>\n",
              "      <th>9</th>\n",
              "      <td>0.318276</td>\n",
              "      <td>0.270782</td>\n",
              "      <td>0.219637</td>\n",
              "      <td>0.237769</td>\n",
              "      <td>0.183219</td>\n",
              "      <td>0.288621</td>\n",
              "      <td>0.425448</td>\n",
              "      <td>0.652525</td>\n",
              "      <td>0.877131</td>\n",
              "      <td>1.000000</td>\n",
              "      <td>...</td>\n",
              "      <td>0.167096</td>\n",
              "      <td>0.165537</td>\n",
              "      <td>0.097544</td>\n",
              "      <td>0.146725</td>\n",
              "      <td>0.175254</td>\n",
              "      <td>0.151889</td>\n",
              "      <td>0.140327</td>\n",
              "      <td>0.212277</td>\n",
              "      <td>0.058273</td>\n",
              "      <td>0.097358</td>\n",
              "    </tr>\n",
              "    <tr>\n",
              "      <th>10</th>\n",
              "      <td>0.344058</td>\n",
              "      <td>0.297065</td>\n",
              "      <td>0.274610</td>\n",
              "      <td>0.271881</td>\n",
              "      <td>0.231684</td>\n",
              "      <td>0.333570</td>\n",
              "      <td>0.396588</td>\n",
              "      <td>0.584583</td>\n",
              "      <td>0.728063</td>\n",
              "      <td>0.853140</td>\n",
              "      <td>...</td>\n",
              "      <td>0.157615</td>\n",
              "      <td>0.165748</td>\n",
              "      <td>0.084801</td>\n",
              "      <td>0.142572</td>\n",
              "      <td>0.228991</td>\n",
              "      <td>0.122332</td>\n",
              "      <td>0.103405</td>\n",
              "      <td>0.193358</td>\n",
              "      <td>0.067726</td>\n",
              "      <td>0.089695</td>\n",
              "    </tr>\n",
              "    <tr>\n",
              "      <th>11</th>\n",
              "      <td>0.210861</td>\n",
              "      <td>0.194102</td>\n",
              "      <td>0.214807</td>\n",
              "      <td>0.175381</td>\n",
              "      <td>0.211657</td>\n",
              "      <td>0.344451</td>\n",
              "      <td>0.274432</td>\n",
              "      <td>0.328329</td>\n",
              "      <td>0.363404</td>\n",
              "      <td>0.485392</td>\n",
              "      <td>...</td>\n",
              "      <td>0.113418</td>\n",
              "      <td>0.117699</td>\n",
              "      <td>0.042263</td>\n",
              "      <td>0.078457</td>\n",
              "      <td>0.164590</td>\n",
              "      <td>0.115658</td>\n",
              "      <td>0.030732</td>\n",
              "      <td>0.065273</td>\n",
              "      <td>0.044614</td>\n",
              "      <td>0.071364</td>\n",
              "    </tr>\n",
              "    <tr>\n",
              "      <th>12</th>\n",
              "      <td>0.210722</td>\n",
              "      <td>0.249596</td>\n",
              "      <td>0.258767</td>\n",
              "      <td>0.215754</td>\n",
              "      <td>0.299086</td>\n",
              "      <td>0.411107</td>\n",
              "      <td>0.365391</td>\n",
              "      <td>0.322951</td>\n",
              "      <td>0.316899</td>\n",
              "      <td>0.405370</td>\n",
              "      <td>...</td>\n",
              "      <td>0.203347</td>\n",
              "      <td>0.147479</td>\n",
              "      <td>0.058599</td>\n",
              "      <td>0.160916</td>\n",
              "      <td>0.272492</td>\n",
              "      <td>0.183743</td>\n",
              "      <td>0.057870</td>\n",
              "      <td>0.171140</td>\n",
              "      <td>0.151804</td>\n",
              "      <td>0.061411</td>\n",
              "    </tr>\n",
              "    <tr>\n",
              "      <th>13</th>\n",
              "      <td>0.256278</td>\n",
              "      <td>0.273170</td>\n",
              "      <td>0.291724</td>\n",
              "      <td>0.286708</td>\n",
              "      <td>0.359062</td>\n",
              "      <td>0.396233</td>\n",
              "      <td>0.409576</td>\n",
              "      <td>0.387114</td>\n",
              "      <td>0.329659</td>\n",
              "      <td>0.345684</td>\n",
              "      <td>...</td>\n",
              "      <td>0.180464</td>\n",
              "      <td>0.137443</td>\n",
              "      <td>0.133196</td>\n",
              "      <td>0.210925</td>\n",
              "      <td>0.326821</td>\n",
              "      <td>0.252166</td>\n",
              "      <td>0.190886</td>\n",
              "      <td>0.258675</td>\n",
              "      <td>0.209122</td>\n",
              "      <td>0.120966</td>\n",
              "    </tr>\n",
              "    <tr>\n",
              "      <th>14</th>\n",
              "      <td>0.304878</td>\n",
              "      <td>0.307599</td>\n",
              "      <td>0.285663</td>\n",
              "      <td>0.278529</td>\n",
              "      <td>0.318059</td>\n",
              "      <td>0.367908</td>\n",
              "      <td>0.411692</td>\n",
              "      <td>0.391514</td>\n",
              "      <td>0.299575</td>\n",
              "      <td>0.294699</td>\n",
              "      <td>...</td>\n",
              "      <td>0.153162</td>\n",
              "      <td>0.135271</td>\n",
              "      <td>0.103444</td>\n",
              "      <td>0.218703</td>\n",
              "      <td>0.261822</td>\n",
              "      <td>0.218395</td>\n",
              "      <td>0.202511</td>\n",
              "      <td>0.225545</td>\n",
              "      <td>0.193671</td>\n",
              "      <td>0.171089</td>\n",
              "    </tr>\n",
              "    <tr>\n",
              "      <th>15</th>\n",
              "      <td>0.239079</td>\n",
              "      <td>0.261844</td>\n",
              "      <td>0.237017</td>\n",
              "      <td>0.248245</td>\n",
              "      <td>0.328725</td>\n",
              "      <td>0.353783</td>\n",
              "      <td>0.363086</td>\n",
              "      <td>0.322237</td>\n",
              "      <td>0.241819</td>\n",
              "      <td>0.242869</td>\n",
              "      <td>...</td>\n",
              "      <td>0.099892</td>\n",
              "      <td>0.104039</td>\n",
              "      <td>0.096325</td>\n",
              "      <td>0.206922</td>\n",
              "      <td>0.240968</td>\n",
              "      <td>0.215478</td>\n",
              "      <td>0.191736</td>\n",
              "      <td>0.198019</td>\n",
              "      <td>0.182337</td>\n",
              "      <td>0.158438</td>\n",
              "    </tr>\n",
              "    <tr>\n",
              "      <th>16</th>\n",
              "      <td>0.137845</td>\n",
              "      <td>0.152170</td>\n",
              "      <td>0.201093</td>\n",
              "      <td>0.223203</td>\n",
              "      <td>0.326477</td>\n",
              "      <td>0.293190</td>\n",
              "      <td>0.250024</td>\n",
              "      <td>0.140912</td>\n",
              "      <td>0.100146</td>\n",
              "      <td>0.121264</td>\n",
              "      <td>...</td>\n",
              "      <td>0.009036</td>\n",
              "      <td>0.020313</td>\n",
              "      <td>0.035635</td>\n",
              "      <td>0.129138</td>\n",
              "      <td>0.168460</td>\n",
              "      <td>0.128968</td>\n",
              "      <td>0.145708</td>\n",
              "      <td>0.148563</td>\n",
              "      <td>0.121800</td>\n",
              "      <td>0.093992</td>\n",
              "    </tr>\n",
              "    <tr>\n",
              "      <th>17</th>\n",
              "      <td>0.041817</td>\n",
              "      <td>0.042870</td>\n",
              "      <td>0.120587</td>\n",
              "      <td>0.194992</td>\n",
              "      <td>0.299266</td>\n",
              "      <td>0.235778</td>\n",
              "      <td>0.208057</td>\n",
              "      <td>0.061333</td>\n",
              "      <td>0.027380</td>\n",
              "      <td>0.063745</td>\n",
              "      <td>...</td>\n",
              "      <td>-0.104656</td>\n",
              "      <td>-0.057236</td>\n",
              "      <td>-0.006627</td>\n",
              "      <td>0.072344</td>\n",
              "      <td>0.093767</td>\n",
              "      <td>0.080812</td>\n",
              "      <td>0.056930</td>\n",
              "      <td>0.096022</td>\n",
              "      <td>0.028446</td>\n",
              "      <td>0.046617</td>\n",
              "    </tr>\n",
              "    <tr>\n",
              "      <th>18</th>\n",
              "      <td>0.055227</td>\n",
              "      <td>0.040911</td>\n",
              "      <td>0.099303</td>\n",
              "      <td>0.189405</td>\n",
              "      <td>0.340543</td>\n",
              "      <td>0.226305</td>\n",
              "      <td>0.215495</td>\n",
              "      <td>0.061825</td>\n",
              "      <td>0.067237</td>\n",
              "      <td>0.099632</td>\n",
              "      <td>...</td>\n",
              "      <td>-0.050988</td>\n",
              "      <td>0.011450</td>\n",
              "      <td>0.051367</td>\n",
              "      <td>0.120153</td>\n",
              "      <td>0.099082</td>\n",
              "      <td>0.121331</td>\n",
              "      <td>0.045204</td>\n",
              "      <td>0.138365</td>\n",
              "      <td>0.023019</td>\n",
              "      <td>0.007468</td>\n",
              "    </tr>\n",
              "    <tr>\n",
              "      <th>19</th>\n",
              "      <td>0.156760</td>\n",
              "      <td>0.102428</td>\n",
              "      <td>0.103117</td>\n",
              "      <td>0.188317</td>\n",
              "      <td>0.285737</td>\n",
              "      <td>0.206841</td>\n",
              "      <td>0.196496</td>\n",
              "      <td>0.204950</td>\n",
              "      <td>0.266455</td>\n",
              "      <td>0.246924</td>\n",
              "      <td>...</td>\n",
              "      <td>-0.022960</td>\n",
              "      <td>0.028754</td>\n",
              "      <td>0.069692</td>\n",
              "      <td>0.171936</td>\n",
              "      <td>0.157272</td>\n",
              "      <td>0.178498</td>\n",
              "      <td>0.066425</td>\n",
              "      <td>0.132453</td>\n",
              "      <td>-0.005364</td>\n",
              "      <td>-0.028540</td>\n",
              "    </tr>\n",
              "    <tr>\n",
              "      <th>20</th>\n",
              "      <td>0.117663</td>\n",
              "      <td>0.075255</td>\n",
              "      <td>0.063990</td>\n",
              "      <td>0.142271</td>\n",
              "      <td>0.205088</td>\n",
              "      <td>0.174768</td>\n",
              "      <td>0.165827</td>\n",
              "      <td>0.208785</td>\n",
              "      <td>0.264109</td>\n",
              "      <td>0.240862</td>\n",
              "      <td>...</td>\n",
              "      <td>-0.024222</td>\n",
              "      <td>-0.034845</td>\n",
              "      <td>-0.000270</td>\n",
              "      <td>0.167327</td>\n",
              "      <td>0.059823</td>\n",
              "      <td>0.139089</td>\n",
              "      <td>0.030943</td>\n",
              "      <td>0.079818</td>\n",
              "      <td>-0.049413</td>\n",
              "      <td>-0.025201</td>\n",
              "    </tr>\n",
              "    <tr>\n",
              "      <th>21</th>\n",
              "      <td>-0.056973</td>\n",
              "      <td>-0.074157</td>\n",
              "      <td>-0.026815</td>\n",
              "      <td>0.036010</td>\n",
              "      <td>0.152897</td>\n",
              "      <td>0.123770</td>\n",
              "      <td>0.063773</td>\n",
              "      <td>0.023786</td>\n",
              "      <td>0.019512</td>\n",
              "      <td>0.070381</td>\n",
              "      <td>...</td>\n",
              "      <td>-0.061054</td>\n",
              "      <td>-0.092204</td>\n",
              "      <td>-0.094203</td>\n",
              "      <td>0.045224</td>\n",
              "      <td>-0.119720</td>\n",
              "      <td>-0.030877</td>\n",
              "      <td>-0.069909</td>\n",
              "      <td>-0.035829</td>\n",
              "      <td>-0.143209</td>\n",
              "      <td>-0.085696</td>\n",
              "    </tr>\n",
              "    <tr>\n",
              "      <th>22</th>\n",
              "      <td>-0.163426</td>\n",
              "      <td>-0.179365</td>\n",
              "      <td>-0.073400</td>\n",
              "      <td>-0.029749</td>\n",
              "      <td>0.073934</td>\n",
              "      <td>0.064081</td>\n",
              "      <td>0.009359</td>\n",
              "      <td>-0.092087</td>\n",
              "      <td>-0.154752</td>\n",
              "      <td>-0.094887</td>\n",
              "      <td>...</td>\n",
              "      <td>-0.108172</td>\n",
              "      <td>-0.108934</td>\n",
              "      <td>-0.152691</td>\n",
              "      <td>-0.055641</td>\n",
              "      <td>-0.198577</td>\n",
              "      <td>-0.138900</td>\n",
              "      <td>-0.098291</td>\n",
              "      <td>-0.105235</td>\n",
              "      <td>-0.168149</td>\n",
              "      <td>-0.163696</td>\n",
              "    </tr>\n",
              "    <tr>\n",
              "      <th>23</th>\n",
              "      <td>-0.218093</td>\n",
              "      <td>-0.196469</td>\n",
              "      <td>-0.085380</td>\n",
              "      <td>-0.102975</td>\n",
              "      <td>-0.000624</td>\n",
              "      <td>0.027026</td>\n",
              "      <td>0.011982</td>\n",
              "      <td>-0.124427</td>\n",
              "      <td>-0.189343</td>\n",
              "      <td>-0.178304</td>\n",
              "      <td>...</td>\n",
              "      <td>-0.143650</td>\n",
              "      <td>-0.175022</td>\n",
              "      <td>-0.225897</td>\n",
              "      <td>-0.125419</td>\n",
              "      <td>-0.229297</td>\n",
              "      <td>-0.178320</td>\n",
              "      <td>-0.117429</td>\n",
              "      <td>-0.210556</td>\n",
              "      <td>-0.186527</td>\n",
              "      <td>-0.190877</td>\n",
              "    </tr>\n",
              "    <tr>\n",
              "      <th>24</th>\n",
              "      <td>-0.295683</td>\n",
              "      <td>-0.295302</td>\n",
              "      <td>-0.214256</td>\n",
              "      <td>-0.206673</td>\n",
              "      <td>-0.067296</td>\n",
              "      <td>-0.043280</td>\n",
              "      <td>-0.057147</td>\n",
              "      <td>-0.196354</td>\n",
              "      <td>-0.198658</td>\n",
              "      <td>-0.179890</td>\n",
              "      <td>...</td>\n",
              "      <td>-0.200752</td>\n",
              "      <td>-0.250479</td>\n",
              "      <td>-0.238478</td>\n",
              "      <td>-0.219817</td>\n",
              "      <td>-0.276419</td>\n",
              "      <td>-0.187789</td>\n",
              "      <td>-0.157967</td>\n",
              "      <td>-0.270222</td>\n",
              "      <td>-0.303155</td>\n",
              "      <td>-0.253233</td>\n",
              "    </tr>\n",
              "    <tr>\n",
              "      <th>25</th>\n",
              "      <td>-0.342865</td>\n",
              "      <td>-0.365749</td>\n",
              "      <td>-0.291974</td>\n",
              "      <td>-0.291357</td>\n",
              "      <td>-0.125675</td>\n",
              "      <td>-0.100309</td>\n",
              "      <td>-0.126074</td>\n",
              "      <td>-0.203178</td>\n",
              "      <td>-0.137459</td>\n",
              "      <td>-0.109051</td>\n",
              "      <td>...</td>\n",
              "      <td>-0.191554</td>\n",
              "      <td>-0.256166</td>\n",
              "      <td>-0.248400</td>\n",
              "      <td>-0.277169</td>\n",
              "      <td>-0.353657</td>\n",
              "      <td>-0.215894</td>\n",
              "      <td>-0.254240</td>\n",
              "      <td>-0.303427</td>\n",
              "      <td>-0.385725</td>\n",
              "      <td>-0.303949</td>\n",
              "    </tr>\n",
              "    <tr>\n",
              "      <th>26</th>\n",
              "      <td>-0.341703</td>\n",
              "      <td>-0.337046</td>\n",
              "      <td>-0.263111</td>\n",
              "      <td>-0.294749</td>\n",
              "      <td>-0.169618</td>\n",
              "      <td>-0.129094</td>\n",
              "      <td>-0.179526</td>\n",
              "      <td>-0.233332</td>\n",
              "      <td>-0.119143</td>\n",
              "      <td>-0.095820</td>\n",
              "      <td>...</td>\n",
              "      <td>-0.137886</td>\n",
              "      <td>-0.191707</td>\n",
              "      <td>-0.259825</td>\n",
              "      <td>-0.269558</td>\n",
              "      <td>-0.347931</td>\n",
              "      <td>-0.263403</td>\n",
              "      <td>-0.267069</td>\n",
              "      <td>-0.321868</td>\n",
              "      <td>-0.360340</td>\n",
              "      <td>-0.267596</td>\n",
              "    </tr>\n",
              "    <tr>\n",
              "      <th>27</th>\n",
              "      <td>-0.224340</td>\n",
              "      <td>-0.234386</td>\n",
              "      <td>-0.256674</td>\n",
              "      <td>-0.256074</td>\n",
              "      <td>-0.214692</td>\n",
              "      <td>-0.118645</td>\n",
              "      <td>-0.116848</td>\n",
              "      <td>-0.120343</td>\n",
              "      <td>-0.028002</td>\n",
              "      <td>-0.052303</td>\n",
              "      <td>...</td>\n",
              "      <td>-0.027750</td>\n",
              "      <td>-0.064730</td>\n",
              "      <td>-0.148791</td>\n",
              "      <td>-0.213300</td>\n",
              "      <td>-0.262620</td>\n",
              "      <td>-0.198093</td>\n",
              "      <td>-0.190854</td>\n",
              "      <td>-0.261443</td>\n",
              "      <td>-0.275442</td>\n",
              "      <td>-0.195130</td>\n",
              "    </tr>\n",
              "    <tr>\n",
              "      <th>28</th>\n",
              "      <td>-0.199099</td>\n",
              "      <td>-0.228490</td>\n",
              "      <td>-0.290728</td>\n",
              "      <td>-0.300476</td>\n",
              "      <td>-0.283863</td>\n",
              "      <td>-0.156081</td>\n",
              "      <td>-0.129694</td>\n",
              "      <td>-0.139750</td>\n",
              "      <td>-0.093413</td>\n",
              "      <td>-0.137173</td>\n",
              "      <td>...</td>\n",
              "      <td>-0.000251</td>\n",
              "      <td>-0.054779</td>\n",
              "      <td>-0.130527</td>\n",
              "      <td>-0.235110</td>\n",
              "      <td>-0.246181</td>\n",
              "      <td>-0.221273</td>\n",
              "      <td>-0.228155</td>\n",
              "      <td>-0.267938</td>\n",
              "      <td>-0.247318</td>\n",
              "      <td>-0.203776</td>\n",
              "    </tr>\n",
              "    <tr>\n",
              "      <th>29</th>\n",
              "      <td>-0.077430</td>\n",
              "      <td>-0.115301</td>\n",
              "      <td>-0.197493</td>\n",
              "      <td>-0.236602</td>\n",
              "      <td>-0.273350</td>\n",
              "      <td>-0.151186</td>\n",
              "      <td>-0.068142</td>\n",
              "      <td>-0.017654</td>\n",
              "      <td>0.053398</td>\n",
              "      <td>-0.043998</td>\n",
              "      <td>...</td>\n",
              "      <td>0.038928</td>\n",
              "      <td>0.039053</td>\n",
              "      <td>-0.034937</td>\n",
              "      <td>-0.149564</td>\n",
              "      <td>-0.127523</td>\n",
              "      <td>-0.063403</td>\n",
              "      <td>-0.072976</td>\n",
              "      <td>-0.134302</td>\n",
              "      <td>-0.129402</td>\n",
              "      <td>-0.076100</td>\n",
              "    </tr>\n",
              "    <tr>\n",
              "      <th>30</th>\n",
              "      <td>-0.048370</td>\n",
              "      <td>-0.055862</td>\n",
              "      <td>-0.106198</td>\n",
              "      <td>-0.190086</td>\n",
              "      <td>-0.214336</td>\n",
              "      <td>-0.054136</td>\n",
              "      <td>-0.096945</td>\n",
              "      <td>-0.081072</td>\n",
              "      <td>-0.041649</td>\n",
              "      <td>-0.091193</td>\n",
              "      <td>...</td>\n",
              "      <td>0.048936</td>\n",
              "      <td>0.087360</td>\n",
              "      <td>0.026300</td>\n",
              "      <td>-0.146485</td>\n",
              "      <td>-0.080546</td>\n",
              "      <td>-0.067373</td>\n",
              "      <td>-0.018733</td>\n",
              "      <td>-0.036092</td>\n",
              "      <td>-0.044197</td>\n",
              "      <td>-0.043015</td>\n",
              "    </tr>\n",
              "    <tr>\n",
              "      <th>31</th>\n",
              "      <td>-0.030444</td>\n",
              "      <td>-0.049683</td>\n",
              "      <td>-0.109895</td>\n",
              "      <td>-0.169987</td>\n",
              "      <td>-0.173485</td>\n",
              "      <td>-0.051934</td>\n",
              "      <td>-0.115871</td>\n",
              "      <td>-0.108115</td>\n",
              "      <td>-0.028629</td>\n",
              "      <td>-0.058493</td>\n",
              "      <td>...</td>\n",
              "      <td>0.059594</td>\n",
              "      <td>0.090863</td>\n",
              "      <td>0.017997</td>\n",
              "      <td>-0.089302</td>\n",
              "      <td>-0.012792</td>\n",
              "      <td>0.017714</td>\n",
              "      <td>0.010611</td>\n",
              "      <td>0.018564</td>\n",
              "      <td>0.013499</td>\n",
              "      <td>-0.023863</td>\n",
              "    </tr>\n",
              "    <tr>\n",
              "      <th>32</th>\n",
              "      <td>-0.031939</td>\n",
              "      <td>-0.108272</td>\n",
              "      <td>-0.170671</td>\n",
              "      <td>-0.164651</td>\n",
              "      <td>-0.200586</td>\n",
              "      <td>-0.144391</td>\n",
              "      <td>-0.127052</td>\n",
              "      <td>-0.087246</td>\n",
              "      <td>-0.017885</td>\n",
              "      <td>-0.027245</td>\n",
              "      <td>...</td>\n",
              "      <td>-0.002591</td>\n",
              "      <td>0.003084</td>\n",
              "      <td>0.029192</td>\n",
              "      <td>-0.037753</td>\n",
              "      <td>0.000520</td>\n",
              "      <td>0.030027</td>\n",
              "      <td>0.045806</td>\n",
              "      <td>0.003712</td>\n",
              "      <td>0.054285</td>\n",
              "      <td>-0.015804</td>\n",
              "    </tr>\n",
              "    <tr>\n",
              "      <th>33</th>\n",
              "      <td>0.031319</td>\n",
              "      <td>-0.004247</td>\n",
              "      <td>-0.099409</td>\n",
              "      <td>-0.083965</td>\n",
              "      <td>-0.140559</td>\n",
              "      <td>-0.070337</td>\n",
              "      <td>-0.077662</td>\n",
              "      <td>-0.014578</td>\n",
              "      <td>0.013594</td>\n",
              "      <td>-0.021291</td>\n",
              "      <td>...</td>\n",
              "      <td>0.003386</td>\n",
              "      <td>0.008364</td>\n",
              "      <td>0.095110</td>\n",
              "      <td>0.064450</td>\n",
              "      <td>0.089024</td>\n",
              "      <td>0.109288</td>\n",
              "      <td>0.106959</td>\n",
              "      <td>0.083192</td>\n",
              "      <td>0.138214</td>\n",
              "      <td>0.075686</td>\n",
              "    </tr>\n",
              "    <tr>\n",
              "      <th>34</th>\n",
              "      <td>0.098118</td>\n",
              "      <td>0.115824</td>\n",
              "      <td>0.017053</td>\n",
              "      <td>0.015200</td>\n",
              "      <td>-0.086529</td>\n",
              "      <td>-0.028815</td>\n",
              "      <td>-0.015531</td>\n",
              "      <td>0.035733</td>\n",
              "      <td>0.015065</td>\n",
              "      <td>-0.035765</td>\n",
              "      <td>...</td>\n",
              "      <td>0.018382</td>\n",
              "      <td>0.052650</td>\n",
              "      <td>0.122798</td>\n",
              "      <td>0.138357</td>\n",
              "      <td>0.110776</td>\n",
              "      <td>0.131490</td>\n",
              "      <td>0.168361</td>\n",
              "      <td>0.143897</td>\n",
              "      <td>0.227783</td>\n",
              "      <td>0.191193</td>\n",
              "    </tr>\n",
              "    <tr>\n",
              "      <th>35</th>\n",
              "      <td>0.080722</td>\n",
              "      <td>0.132611</td>\n",
              "      <td>0.053070</td>\n",
              "      <td>0.039282</td>\n",
              "      <td>-0.073481</td>\n",
              "      <td>-0.023621</td>\n",
              "      <td>0.002979</td>\n",
              "      <td>0.087187</td>\n",
              "      <td>0.036120</td>\n",
              "      <td>-0.004460</td>\n",
              "      <td>...</td>\n",
              "      <td>0.006165</td>\n",
              "      <td>0.023165</td>\n",
              "      <td>0.072182</td>\n",
              "      <td>0.136711</td>\n",
              "      <td>0.074314</td>\n",
              "      <td>0.069959</td>\n",
              "      <td>0.189471</td>\n",
              "      <td>0.106275</td>\n",
              "      <td>0.222683</td>\n",
              "      <td>0.176982</td>\n",
              "    </tr>\n",
              "    <tr>\n",
              "      <th>36</th>\n",
              "      <td>0.119565</td>\n",
              "      <td>0.169186</td>\n",
              "      <td>0.107530</td>\n",
              "      <td>0.063486</td>\n",
              "      <td>-0.064617</td>\n",
              "      <td>-0.064798</td>\n",
              "      <td>-0.001376</td>\n",
              "      <td>0.110739</td>\n",
              "      <td>0.111769</td>\n",
              "      <td>0.085072</td>\n",
              "      <td>...</td>\n",
              "      <td>-0.028291</td>\n",
              "      <td>0.002078</td>\n",
              "      <td>0.079799</td>\n",
              "      <td>0.130427</td>\n",
              "      <td>0.086914</td>\n",
              "      <td>0.116549</td>\n",
              "      <td>0.180789</td>\n",
              "      <td>0.110760</td>\n",
              "      <td>0.163162</td>\n",
              "      <td>0.166263</td>\n",
              "    </tr>\n",
              "    <tr>\n",
              "      <th>37</th>\n",
              "      <td>0.209873</td>\n",
              "      <td>0.217494</td>\n",
              "      <td>0.130276</td>\n",
              "      <td>0.089887</td>\n",
              "      <td>-0.008620</td>\n",
              "      <td>-0.048745</td>\n",
              "      <td>0.065900</td>\n",
              "      <td>0.186609</td>\n",
              "      <td>0.223983</td>\n",
              "      <td>0.175717</td>\n",
              "      <td>...</td>\n",
              "      <td>0.094205</td>\n",
              "      <td>0.134015</td>\n",
              "      <td>0.171104</td>\n",
              "      <td>0.206931</td>\n",
              "      <td>0.235457</td>\n",
              "      <td>0.217587</td>\n",
              "      <td>0.156320</td>\n",
              "      <td>0.169710</td>\n",
              "      <td>0.206001</td>\n",
              "      <td>0.233288</td>\n",
              "    </tr>\n",
              "    <tr>\n",
              "      <th>38</th>\n",
              "      <td>0.208371</td>\n",
              "      <td>0.186828</td>\n",
              "      <td>0.110499</td>\n",
              "      <td>0.089346</td>\n",
              "      <td>0.063408</td>\n",
              "      <td>0.030599</td>\n",
              "      <td>0.080942</td>\n",
              "      <td>0.206145</td>\n",
              "      <td>0.211897</td>\n",
              "      <td>0.233833</td>\n",
              "      <td>...</td>\n",
              "      <td>0.124038</td>\n",
              "      <td>0.108564</td>\n",
              "      <td>0.167599</td>\n",
              "      <td>0.200116</td>\n",
              "      <td>0.294578</td>\n",
              "      <td>0.223133</td>\n",
              "      <td>0.143131</td>\n",
              "      <td>0.218912</td>\n",
              "      <td>0.231150</td>\n",
              "      <td>0.222611</td>\n",
              "    </tr>\n",
              "    <tr>\n",
              "      <th>39</th>\n",
              "      <td>0.099993</td>\n",
              "      <td>0.098350</td>\n",
              "      <td>0.074137</td>\n",
              "      <td>0.045141</td>\n",
              "      <td>0.061616</td>\n",
              "      <td>0.081119</td>\n",
              "      <td>0.112673</td>\n",
              "      <td>0.184411</td>\n",
              "      <td>0.122735</td>\n",
              "      <td>0.177357</td>\n",
              "      <td>...</td>\n",
              "      <td>0.066673</td>\n",
              "      <td>0.042677</td>\n",
              "      <td>0.128310</td>\n",
              "      <td>0.121381</td>\n",
              "      <td>0.157435</td>\n",
              "      <td>0.150700</td>\n",
              "      <td>0.105603</td>\n",
              "      <td>0.143718</td>\n",
              "      <td>0.189058</td>\n",
              "      <td>0.202034</td>\n",
              "    </tr>\n",
              "    <tr>\n",
              "      <th>40</th>\n",
              "      <td>0.127313</td>\n",
              "      <td>0.188226</td>\n",
              "      <td>0.189047</td>\n",
              "      <td>0.145241</td>\n",
              "      <td>0.098832</td>\n",
              "      <td>0.075797</td>\n",
              "      <td>0.041071</td>\n",
              "      <td>0.097517</td>\n",
              "      <td>0.019589</td>\n",
              "      <td>-0.002523</td>\n",
              "      <td>...</td>\n",
              "      <td>0.277471</td>\n",
              "      <td>0.255774</td>\n",
              "      <td>0.254064</td>\n",
              "      <td>0.181579</td>\n",
              "      <td>0.177851</td>\n",
              "      <td>0.220670</td>\n",
              "      <td>0.193532</td>\n",
              "      <td>0.196282</td>\n",
              "      <td>0.304521</td>\n",
              "      <td>0.281889</td>\n",
              "    </tr>\n",
              "    <tr>\n",
              "      <th>41</th>\n",
              "      <td>0.213592</td>\n",
              "      <td>0.261345</td>\n",
              "      <td>0.233442</td>\n",
              "      <td>0.144693</td>\n",
              "      <td>0.125181</td>\n",
              "      <td>0.048763</td>\n",
              "      <td>-0.028720</td>\n",
              "      <td>0.076054</td>\n",
              "      <td>-0.005785</td>\n",
              "      <td>-0.018880</td>\n",
              "      <td>...</td>\n",
              "      <td>0.428751</td>\n",
              "      <td>0.359439</td>\n",
              "      <td>0.283622</td>\n",
              "      <td>0.214580</td>\n",
              "      <td>0.175505</td>\n",
              "      <td>0.157192</td>\n",
              "      <td>0.157646</td>\n",
              "      <td>0.201077</td>\n",
              "      <td>0.276762</td>\n",
              "      <td>0.220597</td>\n",
              "    </tr>\n",
              "    <tr>\n",
              "      <th>42</th>\n",
              "      <td>0.206057</td>\n",
              "      <td>0.186368</td>\n",
              "      <td>0.113920</td>\n",
              "      <td>0.050629</td>\n",
              "      <td>0.063706</td>\n",
              "      <td>0.034380</td>\n",
              "      <td>-0.025727</td>\n",
              "      <td>0.114721</td>\n",
              "      <td>0.052409</td>\n",
              "      <td>0.076138</td>\n",
              "      <td>...</td>\n",
              "      <td>0.397190</td>\n",
              "      <td>0.302861</td>\n",
              "      <td>0.253203</td>\n",
              "      <td>0.155339</td>\n",
              "      <td>0.097671</td>\n",
              "      <td>0.123574</td>\n",
              "      <td>0.104120</td>\n",
              "      <td>0.210814</td>\n",
              "      <td>0.199334</td>\n",
              "      <td>0.161416</td>\n",
              "    </tr>\n",
              "    <tr>\n",
              "      <th>43</th>\n",
              "      <td>0.157949</td>\n",
              "      <td>0.133018</td>\n",
              "      <td>0.071946</td>\n",
              "      <td>-0.008407</td>\n",
              "      <td>0.031575</td>\n",
              "      <td>0.048870</td>\n",
              "      <td>0.061404</td>\n",
              "      <td>0.135426</td>\n",
              "      <td>0.215710</td>\n",
              "      <td>0.216742</td>\n",
              "      <td>...</td>\n",
              "      <td>0.316501</td>\n",
              "      <td>0.217849</td>\n",
              "      <td>0.139544</td>\n",
              "      <td>0.095210</td>\n",
              "      <td>0.097255</td>\n",
              "      <td>0.133169</td>\n",
              "      <td>0.108185</td>\n",
              "      <td>0.109166</td>\n",
              "      <td>0.154547</td>\n",
              "      <td>0.108190</td>\n",
              "    </tr>\n",
              "    <tr>\n",
              "      <th>44</th>\n",
              "      <td>0.279968</td>\n",
              "      <td>0.285716</td>\n",
              "      <td>0.180734</td>\n",
              "      <td>0.087824</td>\n",
              "      <td>0.089202</td>\n",
              "      <td>0.085468</td>\n",
              "      <td>0.110813</td>\n",
              "      <td>0.240176</td>\n",
              "      <td>0.320573</td>\n",
              "      <td>0.287459</td>\n",
              "      <td>...</td>\n",
              "      <td>0.416973</td>\n",
              "      <td>0.350208</td>\n",
              "      <td>0.181292</td>\n",
              "      <td>0.162879</td>\n",
              "      <td>0.242757</td>\n",
              "      <td>0.170750</td>\n",
              "      <td>0.144281</td>\n",
              "      <td>0.167337</td>\n",
              "      <td>0.178402</td>\n",
              "      <td>0.157181</td>\n",
              "    </tr>\n",
              "    <tr>\n",
              "      <th>45</th>\n",
              "      <td>0.319354</td>\n",
              "      <td>0.304247</td>\n",
              "      <td>0.173649</td>\n",
              "      <td>0.080012</td>\n",
              "      <td>0.081964</td>\n",
              "      <td>0.029524</td>\n",
              "      <td>0.076537</td>\n",
              "      <td>0.169099</td>\n",
              "      <td>0.195447</td>\n",
              "      <td>0.138447</td>\n",
              "      <td>...</td>\n",
              "      <td>0.505304</td>\n",
              "      <td>0.429309</td>\n",
              "      <td>0.236971</td>\n",
              "      <td>0.187964</td>\n",
              "      <td>0.269119</td>\n",
              "      <td>0.178182</td>\n",
              "      <td>0.162125</td>\n",
              "      <td>0.237890</td>\n",
              "      <td>0.205291</td>\n",
              "      <td>0.180691</td>\n",
              "    </tr>\n",
              "    <tr>\n",
              "      <th>46</th>\n",
              "      <td>0.230343</td>\n",
              "      <td>0.255797</td>\n",
              "      <td>0.179528</td>\n",
              "      <td>0.046109</td>\n",
              "      <td>0.041419</td>\n",
              "      <td>0.016640</td>\n",
              "      <td>0.098925</td>\n",
              "      <td>0.109744</td>\n",
              "      <td>0.084191</td>\n",
              "      <td>0.090662</td>\n",
              "      <td>...</td>\n",
              "      <td>0.570575</td>\n",
              "      <td>0.398600</td>\n",
              "      <td>0.206970</td>\n",
              "      <td>0.159920</td>\n",
              "      <td>0.194223</td>\n",
              "      <td>0.146042</td>\n",
              "      <td>0.157815</td>\n",
              "      <td>0.240471</td>\n",
              "      <td>0.209045</td>\n",
              "      <td>0.139727</td>\n",
              "    </tr>\n",
              "    <tr>\n",
              "      <th>47</th>\n",
              "      <td>0.203234</td>\n",
              "      <td>0.265279</td>\n",
              "      <td>0.234896</td>\n",
              "      <td>0.121065</td>\n",
              "      <td>0.084435</td>\n",
              "      <td>0.067196</td>\n",
              "      <td>0.155221</td>\n",
              "      <td>0.222783</td>\n",
              "      <td>0.225667</td>\n",
              "      <td>0.268123</td>\n",
              "      <td>...</td>\n",
              "      <td>0.573572</td>\n",
              "      <td>0.365149</td>\n",
              "      <td>0.206376</td>\n",
              "      <td>0.209084</td>\n",
              "      <td>0.210950</td>\n",
              "      <td>0.219052</td>\n",
              "      <td>0.196814</td>\n",
              "      <td>0.270198</td>\n",
              "      <td>0.221425</td>\n",
              "      <td>0.123666</td>\n",
              "    </tr>\n",
              "    <tr>\n",
              "      <th>48</th>\n",
              "      <td>0.247560</td>\n",
              "      <td>0.313995</td>\n",
              "      <td>0.223074</td>\n",
              "      <td>0.133294</td>\n",
              "      <td>0.088128</td>\n",
              "      <td>0.080729</td>\n",
              "      <td>0.194720</td>\n",
              "      <td>0.271422</td>\n",
              "      <td>0.222135</td>\n",
              "      <td>0.264885</td>\n",
              "      <td>...</td>\n",
              "      <td>0.526095</td>\n",
              "      <td>0.319286</td>\n",
              "      <td>0.150871</td>\n",
              "      <td>0.195826</td>\n",
              "      <td>0.230033</td>\n",
              "      <td>0.155186</td>\n",
              "      <td>0.173098</td>\n",
              "      <td>0.328238</td>\n",
              "      <td>0.209152</td>\n",
              "      <td>0.088640</td>\n",
              "    </tr>\n",
              "    <tr>\n",
              "      <th>49</th>\n",
              "      <td>0.269287</td>\n",
              "      <td>0.245868</td>\n",
              "      <td>0.081096</td>\n",
              "      <td>0.077925</td>\n",
              "      <td>0.066751</td>\n",
              "      <td>0.017300</td>\n",
              "      <td>0.166112</td>\n",
              "      <td>0.191615</td>\n",
              "      <td>0.150527</td>\n",
              "      <td>0.162010</td>\n",
              "      <td>...</td>\n",
              "      <td>0.447926</td>\n",
              "      <td>0.341667</td>\n",
              "      <td>0.279681</td>\n",
              "      <td>0.280477</td>\n",
              "      <td>0.287612</td>\n",
              "      <td>0.235053</td>\n",
              "      <td>0.201609</td>\n",
              "      <td>0.342866</td>\n",
              "      <td>0.178118</td>\n",
              "      <td>0.139944</td>\n",
              "    </tr>\n",
              "    <tr>\n",
              "      <th>50</th>\n",
              "      <td>0.254450</td>\n",
              "      <td>0.320538</td>\n",
              "      <td>0.238110</td>\n",
              "      <td>0.174676</td>\n",
              "      <td>0.115936</td>\n",
              "      <td>0.171767</td>\n",
              "      <td>0.184152</td>\n",
              "      <td>0.260692</td>\n",
              "      <td>0.174873</td>\n",
              "      <td>0.167096</td>\n",
              "      <td>...</td>\n",
              "      <td>1.000000</td>\n",
              "      <td>0.627038</td>\n",
              "      <td>0.330396</td>\n",
              "      <td>0.384052</td>\n",
              "      <td>0.278935</td>\n",
              "      <td>0.209752</td>\n",
              "      <td>0.191407</td>\n",
              "      <td>0.325665</td>\n",
              "      <td>0.317942</td>\n",
              "      <td>0.246764</td>\n",
              "    </tr>\n",
              "    <tr>\n",
              "      <th>51</th>\n",
              "      <td>0.355299</td>\n",
              "      <td>0.434548</td>\n",
              "      <td>0.394076</td>\n",
              "      <td>0.374651</td>\n",
              "      <td>0.266617</td>\n",
              "      <td>0.252288</td>\n",
              "      <td>0.144051</td>\n",
              "      <td>0.219038</td>\n",
              "      <td>0.207996</td>\n",
              "      <td>0.165537</td>\n",
              "      <td>...</td>\n",
              "      <td>0.627038</td>\n",
              "      <td>1.000000</td>\n",
              "      <td>0.540414</td>\n",
              "      <td>0.343190</td>\n",
              "      <td>0.337581</td>\n",
              "      <td>0.203121</td>\n",
              "      <td>0.191264</td>\n",
              "      <td>0.309673</td>\n",
              "      <td>0.298711</td>\n",
              "      <td>0.195379</td>\n",
              "    </tr>\n",
              "    <tr>\n",
              "      <th>52</th>\n",
              "      <td>0.311729</td>\n",
              "      <td>0.346076</td>\n",
              "      <td>0.332914</td>\n",
              "      <td>0.364772</td>\n",
              "      <td>0.314985</td>\n",
              "      <td>0.162404</td>\n",
              "      <td>0.046403</td>\n",
              "      <td>0.102447</td>\n",
              "      <td>0.105352</td>\n",
              "      <td>0.097544</td>\n",
              "      <td>...</td>\n",
              "      <td>0.330396</td>\n",
              "      <td>0.540414</td>\n",
              "      <td>1.000000</td>\n",
              "      <td>0.412337</td>\n",
              "      <td>0.315656</td>\n",
              "      <td>0.421588</td>\n",
              "      <td>0.308197</td>\n",
              "      <td>0.370764</td>\n",
              "      <td>0.346095</td>\n",
              "      <td>0.280780</td>\n",
              "    </tr>\n",
              "    <tr>\n",
              "      <th>53</th>\n",
              "      <td>0.322299</td>\n",
              "      <td>0.383960</td>\n",
              "      <td>0.367186</td>\n",
              "      <td>0.334211</td>\n",
              "      <td>0.205306</td>\n",
              "      <td>0.164073</td>\n",
              "      <td>0.163074</td>\n",
              "      <td>0.234008</td>\n",
              "      <td>0.202615</td>\n",
              "      <td>0.146725</td>\n",
              "      <td>...</td>\n",
              "      <td>0.384052</td>\n",
              "      <td>0.343190</td>\n",
              "      <td>0.412337</td>\n",
              "      <td>1.000000</td>\n",
              "      <td>0.455059</td>\n",
              "      <td>0.397378</td>\n",
              "      <td>0.361443</td>\n",
              "      <td>0.404117</td>\n",
              "      <td>0.447118</td>\n",
              "      <td>0.283471</td>\n",
              "    </tr>\n",
              "    <tr>\n",
              "      <th>54</th>\n",
              "      <td>0.312067</td>\n",
              "      <td>0.380165</td>\n",
              "      <td>0.289731</td>\n",
              "      <td>0.284955</td>\n",
              "      <td>0.196472</td>\n",
              "      <td>0.133464</td>\n",
              "      <td>0.195541</td>\n",
              "      <td>0.239551</td>\n",
              "      <td>0.179342</td>\n",
              "      <td>0.175254</td>\n",
              "      <td>...</td>\n",
              "      <td>0.278935</td>\n",
              "      <td>0.337581</td>\n",
              "      <td>0.315656</td>\n",
              "      <td>0.455059</td>\n",
              "      <td>1.000000</td>\n",
              "      <td>0.429948</td>\n",
              "      <td>0.387204</td>\n",
              "      <td>0.503465</td>\n",
              "      <td>0.453658</td>\n",
              "      <td>0.264399</td>\n",
              "    </tr>\n",
              "    <tr>\n",
              "      <th>55</th>\n",
              "      <td>0.220642</td>\n",
              "      <td>0.262263</td>\n",
              "      <td>0.287661</td>\n",
              "      <td>0.280938</td>\n",
              "      <td>0.199323</td>\n",
              "      <td>0.166758</td>\n",
              "      <td>0.174143</td>\n",
              "      <td>0.276819</td>\n",
              "      <td>0.232764</td>\n",
              "      <td>0.151889</td>\n",
              "      <td>...</td>\n",
              "      <td>0.209752</td>\n",
              "      <td>0.203121</td>\n",
              "      <td>0.421588</td>\n",
              "      <td>0.397378</td>\n",
              "      <td>0.429948</td>\n",
              "      <td>1.000000</td>\n",
              "      <td>0.515154</td>\n",
              "      <td>0.463659</td>\n",
              "      <td>0.430804</td>\n",
              "      <td>0.349449</td>\n",
              "    </tr>\n",
              "    <tr>\n",
              "      <th>56</th>\n",
              "      <td>0.313725</td>\n",
              "      <td>0.280341</td>\n",
              "      <td>0.380819</td>\n",
              "      <td>0.340254</td>\n",
              "      <td>0.219395</td>\n",
              "      <td>0.161333</td>\n",
              "      <td>0.186324</td>\n",
              "      <td>0.267212</td>\n",
              "      <td>0.193963</td>\n",
              "      <td>0.140327</td>\n",
              "      <td>...</td>\n",
              "      <td>0.191407</td>\n",
              "      <td>0.191264</td>\n",
              "      <td>0.308197</td>\n",
              "      <td>0.361443</td>\n",
              "      <td>0.387204</td>\n",
              "      <td>0.515154</td>\n",
              "      <td>1.000000</td>\n",
              "      <td>0.509805</td>\n",
              "      <td>0.431295</td>\n",
              "      <td>0.287219</td>\n",
              "    </tr>\n",
              "    <tr>\n",
              "      <th>57</th>\n",
              "      <td>0.368132</td>\n",
              "      <td>0.353042</td>\n",
              "      <td>0.334108</td>\n",
              "      <td>0.344865</td>\n",
              "      <td>0.238793</td>\n",
              "      <td>0.203986</td>\n",
              "      <td>0.242646</td>\n",
              "      <td>0.287603</td>\n",
              "      <td>0.231745</td>\n",
              "      <td>0.212277</td>\n",
              "      <td>...</td>\n",
              "      <td>0.325665</td>\n",
              "      <td>0.309673</td>\n",
              "      <td>0.370764</td>\n",
              "      <td>0.404117</td>\n",
              "      <td>0.503465</td>\n",
              "      <td>0.463659</td>\n",
              "      <td>0.509805</td>\n",
              "      <td>1.000000</td>\n",
              "      <td>0.550235</td>\n",
              "      <td>0.329827</td>\n",
              "    </tr>\n",
              "    <tr>\n",
              "      <th>58</th>\n",
              "      <td>0.357116</td>\n",
              "      <td>0.352200</td>\n",
              "      <td>0.425047</td>\n",
              "      <td>0.420266</td>\n",
              "      <td>0.290982</td>\n",
              "      <td>0.220573</td>\n",
              "      <td>0.183578</td>\n",
              "      <td>0.194400</td>\n",
              "      <td>0.097293</td>\n",
              "      <td>0.058273</td>\n",
              "      <td>...</td>\n",
              "      <td>0.317942</td>\n",
              "      <td>0.298711</td>\n",
              "      <td>0.346095</td>\n",
              "      <td>0.447118</td>\n",
              "      <td>0.453658</td>\n",
              "      <td>0.430804</td>\n",
              "      <td>0.431295</td>\n",
              "      <td>0.550235</td>\n",
              "      <td>1.000000</td>\n",
              "      <td>0.642872</td>\n",
              "    </tr>\n",
              "    <tr>\n",
              "      <th>59</th>\n",
              "      <td>0.347078</td>\n",
              "      <td>0.358761</td>\n",
              "      <td>0.373948</td>\n",
              "      <td>0.400626</td>\n",
              "      <td>0.253710</td>\n",
              "      <td>0.178158</td>\n",
              "      <td>0.222493</td>\n",
              "      <td>0.146216</td>\n",
              "      <td>0.095243</td>\n",
              "      <td>0.097358</td>\n",
              "      <td>...</td>\n",
              "      <td>0.246764</td>\n",
              "      <td>0.195379</td>\n",
              "      <td>0.280780</td>\n",
              "      <td>0.283471</td>\n",
              "      <td>0.264399</td>\n",
              "      <td>0.349449</td>\n",
              "      <td>0.287219</td>\n",
              "      <td>0.329827</td>\n",
              "      <td>0.642872</td>\n",
              "      <td>1.000000</td>\n",
              "    </tr>\n",
              "  </tbody>\n",
              "</table>\n",
              "<p>60 rows × 60 columns</p>\n",
              "</div>\n",
              "      <button class=\"colab-df-convert\" onclick=\"convertToInteractive('df-0f31e14c-da70-4aa7-8133-6c93b1cdae29')\"\n",
              "              title=\"Convert this dataframe to an interactive table.\"\n",
              "              style=\"display:none;\">\n",
              "        \n",
              "  <svg xmlns=\"http://www.w3.org/2000/svg\" height=\"24px\"viewBox=\"0 0 24 24\"\n",
              "       width=\"24px\">\n",
              "    <path d=\"M0 0h24v24H0V0z\" fill=\"none\"/>\n",
              "    <path d=\"M18.56 5.44l.94 2.06.94-2.06 2.06-.94-2.06-.94-.94-2.06-.94 2.06-2.06.94zm-11 1L8.5 8.5l.94-2.06 2.06-.94-2.06-.94L8.5 2.5l-.94 2.06-2.06.94zm10 10l.94 2.06.94-2.06 2.06-.94-2.06-.94-.94-2.06-.94 2.06-2.06.94z\"/><path d=\"M17.41 7.96l-1.37-1.37c-.4-.4-.92-.59-1.43-.59-.52 0-1.04.2-1.43.59L10.3 9.45l-7.72 7.72c-.78.78-.78 2.05 0 2.83L4 21.41c.39.39.9.59 1.41.59.51 0 1.02-.2 1.41-.59l7.78-7.78 2.81-2.81c.8-.78.8-2.07 0-2.86zM5.41 20L4 18.59l7.72-7.72 1.47 1.35L5.41 20z\"/>\n",
              "  </svg>\n",
              "      </button>\n",
              "      \n",
              "  <style>\n",
              "    .colab-df-container {\n",
              "      display:flex;\n",
              "      flex-wrap:wrap;\n",
              "      gap: 12px;\n",
              "    }\n",
              "\n",
              "    .colab-df-convert {\n",
              "      background-color: #E8F0FE;\n",
              "      border: none;\n",
              "      border-radius: 50%;\n",
              "      cursor: pointer;\n",
              "      display: none;\n",
              "      fill: #1967D2;\n",
              "      height: 32px;\n",
              "      padding: 0 0 0 0;\n",
              "      width: 32px;\n",
              "    }\n",
              "\n",
              "    .colab-df-convert:hover {\n",
              "      background-color: #E2EBFA;\n",
              "      box-shadow: 0px 1px 2px rgba(60, 64, 67, 0.3), 0px 1px 3px 1px rgba(60, 64, 67, 0.15);\n",
              "      fill: #174EA6;\n",
              "    }\n",
              "\n",
              "    [theme=dark] .colab-df-convert {\n",
              "      background-color: #3B4455;\n",
              "      fill: #D2E3FC;\n",
              "    }\n",
              "\n",
              "    [theme=dark] .colab-df-convert:hover {\n",
              "      background-color: #434B5C;\n",
              "      box-shadow: 0px 1px 3px 1px rgba(0, 0, 0, 0.15);\n",
              "      filter: drop-shadow(0px 1px 2px rgba(0, 0, 0, 0.3));\n",
              "      fill: #FFFFFF;\n",
              "    }\n",
              "  </style>\n",
              "\n",
              "      <script>\n",
              "        const buttonEl =\n",
              "          document.querySelector('#df-0f31e14c-da70-4aa7-8133-6c93b1cdae29 button.colab-df-convert');\n",
              "        buttonEl.style.display =\n",
              "          google.colab.kernel.accessAllowed ? 'block' : 'none';\n",
              "\n",
              "        async function convertToInteractive(key) {\n",
              "          const element = document.querySelector('#df-0f31e14c-da70-4aa7-8133-6c93b1cdae29');\n",
              "          const dataTable =\n",
              "            await google.colab.kernel.invokeFunction('convertToInteractive',\n",
              "                                                     [key], {});\n",
              "          if (!dataTable) return;\n",
              "\n",
              "          const docLinkHtml = 'Like what you see? Visit the ' +\n",
              "            '<a target=\"_blank\" href=https://colab.research.google.com/notebooks/data_table.ipynb>data table notebook</a>'\n",
              "            + ' to learn more about interactive tables.';\n",
              "          element.innerHTML = '';\n",
              "          dataTable['output_type'] = 'display_data';\n",
              "          await google.colab.output.renderOutput(dataTable, element);\n",
              "          const docLink = document.createElement('div');\n",
              "          docLink.innerHTML = docLinkHtml;\n",
              "          element.appendChild(docLink);\n",
              "        }\n",
              "      </script>\n",
              "    </div>\n",
              "  </div>\n",
              "  "
            ]
          },
          "metadata": {},
          "execution_count": 31
        }
      ]
    },
    {
      "cell_type": "code",
      "source": [
        "sns.heatmap(df.corr(),annot = True)"
      ],
      "metadata": {
        "colab": {
          "base_uri": "https://localhost:8080/",
          "height": 287
        },
        "id": "WKJbbOZ1zlde",
        "outputId": "6e5b128b-9c1a-47ec-fd6d-10d63adf0c49"
      },
      "execution_count": 32,
      "outputs": [
        {
          "output_type": "execute_result",
          "data": {
            "text/plain": [
              "<matplotlib.axes._subplots.AxesSubplot at 0x7f98e7341890>"
            ]
          },
          "metadata": {},
          "execution_count": 32
        },
        {
          "output_type": "display_data",
          "data": {
            "text/plain": [
              "<Figure size 432x288 with 2 Axes>"
            ],
            "image/png": "[encoded data removed]"
          },
          "metadata": {
            "needs_background": "light"
          }
        }
      ]
    },
    {
      "cell_type": "code",
      "source": [
        "%matplotlib inline\n",
        "df.hist(xlabelsize = 1,ylabelsize = 1)"
      ],
      "metadata": {
        "colab": {
          "base_uri": "https://localhost:8080/",
          "height": 1000
        },
        "id": "_2dkY6TVzzik",
        "outputId": "7254291b-3de6-4547-e09e-de9c567d8b28"
      },
      "execution_count": 35,
      "outputs": [
        {
          "output_type": "execute_result",
          "data": {
            "text/plain": [
              "array([[<matplotlib.axes._subplots.AxesSubplot object at 0x7f98de3538d0>,\n",
              "        <matplotlib.axes._subplots.AxesSubplot object at 0x7f98de083410>,\n",
              "        <matplotlib.axes._subplots.AxesSubplot object at 0x7f98ddeb72d0>,\n",
              "        <matplotlib.axes._subplots.AxesSubplot object at 0x7f98ddec67d0>,\n",
              "        <matplotlib.axes._subplots.AxesSubplot object at 0x7f98dded9cd0>,\n",
              "        <matplotlib.axes._subplots.AxesSubplot object at 0x7f98dde85210>,\n",
              "        <matplotlib.axes._subplots.AxesSubplot object at 0x7f98dde2c790>,\n",
              "        <matplotlib.axes._subplots.AxesSubplot object at 0x7f98dde5abd0>],\n",
              "       [<matplotlib.axes._subplots.AxesSubplot object at 0x7f98dde5ac10>,\n",
              "        <matplotlib.axes._subplots.AxesSubplot object at 0x7f98dde18250>,\n",
              "        <matplotlib.axes._subplots.AxesSubplot object at 0x7f98ddd86b50>,\n",
              "        <matplotlib.axes._subplots.AxesSubplot object at 0x7f98ddd33b90>,\n",
              "        <matplotlib.axes._subplots.AxesSubplot object at 0x7f98ddd00590>,\n",
              "        <matplotlib.axes._subplots.AxesSubplot object at 0x7f98ddcb5a90>,\n",
              "        <matplotlib.axes._subplots.AxesSubplot object at 0x7f98ddc6df90>,\n",
              "        <matplotlib.axes._subplots.AxesSubplot object at 0x7f98ddc31550>],\n",
              "       [<matplotlib.axes._subplots.AxesSubplot object at 0x7f98ddbe6a50>,\n",
              "        <matplotlib.axes._subplots.AxesSubplot object at 0x7f98de30ba50>,\n",
              "        <matplotlib.axes._subplots.AxesSubplot object at 0x7f98de206890>,\n",
              "        <matplotlib.axes._subplots.AxesSubplot object at 0x7f98de5f33d0>,\n",
              "        <matplotlib.axes._subplots.AxesSubplot object at 0x7f98de2f5610>,\n",
              "        <matplotlib.axes._subplots.AxesSubplot object at 0x7f98ddb49290>,\n",
              "        <matplotlib.axes._subplots.AxesSubplot object at 0x7f98ddaff890>,\n",
              "        <matplotlib.axes._subplots.AxesSubplot object at 0x7f98ddab7e90>],\n",
              "       [<matplotlib.axes._subplots.AxesSubplot object at 0x7f98dda794d0>,\n",
              "        <matplotlib.axes._subplots.AxesSubplot object at 0x7f98dda30ad0>,\n",
              "        <matplotlib.axes._subplots.AxesSubplot object at 0x7f98dd9f5110>,\n",
              "        <matplotlib.axes._subplots.AxesSubplot object at 0x7f98dd9aa710>,\n",
              "        <matplotlib.axes._subplots.AxesSubplot object at 0x7f98dd961d10>,\n",
              "        <matplotlib.axes._subplots.AxesSubplot object at 0x7f98dd925350>,\n",
              "        <matplotlib.axes._subplots.AxesSubplot object at 0x7f98dd95c950>,\n",
              "        <matplotlib.axes._subplots.AxesSubplot object at 0x7f98dd913f50>],\n",
              "       [<matplotlib.axes._subplots.AxesSubplot object at 0x7f98dd8d5590>,\n",
              "        <matplotlib.axes._subplots.AxesSubplot object at 0x7f98dd88db90>,\n",
              "        <matplotlib.axes._subplots.AxesSubplot object at 0x7f98dd8511d0>,\n",
              "        <matplotlib.axes._subplots.AxesSubplot object at 0x7f98dd80e750>,\n",
              "        <matplotlib.axes._subplots.AxesSubplot object at 0x7f98dd7c4d50>,\n",
              "        <matplotlib.axes._subplots.AxesSubplot object at 0x7f98dd788390>,\n",
              "        <matplotlib.axes._subplots.AxesSubplot object at 0x7f98dd740990>,\n",
              "        <matplotlib.axes._subplots.AxesSubplot object at 0x7f98dd6f8f90>],\n",
              "       [<matplotlib.axes._subplots.AxesSubplot object at 0x7f98dd6b6610>,\n",
              "        <matplotlib.axes._subplots.AxesSubplot object at 0x7f98dd66dc10>,\n",
              "        <matplotlib.axes._subplots.AxesSubplot object at 0x7f98dd62e250>,\n",
              "        <matplotlib.axes._subplots.AxesSubplot object at 0x7f98dd5e5850>,\n",
              "        <matplotlib.axes._subplots.AxesSubplot object at 0x7f98dd61de50>,\n",
              "        <matplotlib.axes._subplots.AxesSubplot object at 0x7f98dd5df490>,\n",
              "        <matplotlib.axes._subplots.AxesSubplot object at 0x7f98dd596a90>,\n",
              "        <matplotlib.axes._subplots.AxesSubplot object at 0x7f98dd551990>],\n",
              "       [<matplotlib.axes._subplots.AxesSubplot object at 0x7f98dd50ae90>,\n",
              "        <matplotlib.axes._subplots.AxesSubplot object at 0x7f98dd4cf3d0>,\n",
              "        <matplotlib.axes._subplots.AxesSubplot object at 0x7f98dd4858d0>,\n",
              "        <matplotlib.axes._subplots.AxesSubplot object at 0x7f98dd43cdd0>,\n",
              "        <matplotlib.axes._subplots.AxesSubplot object at 0x7f98dd3ff310>,\n",
              "        <matplotlib.axes._subplots.AxesSubplot object at 0x7f98dd3b6810>,\n",
              "        <matplotlib.axes._subplots.AxesSubplot object at 0x7f98dd36bd10>,\n",
              "        <matplotlib.axes._subplots.AxesSubplot object at 0x7f98dd332290>],\n",
              "       [<matplotlib.axes._subplots.AxesSubplot object at 0x7f98dd2e6790>,\n",
              "        <matplotlib.axes._subplots.AxesSubplot object at 0x7f98dd31cc90>,\n",
              "        <matplotlib.axes._subplots.AxesSubplot object at 0x7f98dd2611d0>,\n",
              "        <matplotlib.axes._subplots.AxesSubplot object at 0x7f98dd2966d0>,\n",
              "        <matplotlib.axes._subplots.AxesSubplot object at 0x7f98dd24cbd0>,\n",
              "        <matplotlib.axes._subplots.AxesSubplot object at 0x7f98dd211110>,\n",
              "        <matplotlib.axes._subplots.AxesSubplot object at 0x7f98dd1c6610>,\n",
              "        <matplotlib.axes._subplots.AxesSubplot object at 0x7f98dd17eb10>]],\n",
              "      dtype=object)"
            ]
          },
          "metadata": {},
          "execution_count": 35
        },
        {
          "output_type": "display_data",
          "data": {
            "text/plain": [
              "<Figure size 432x288 with 64 Axes>"
            ],
            "image/png": "[encoded data removed]"
          },
          "metadata": {
            "needs_background": "light"
          }
        }
      ]
    },
    {
      "cell_type": "code",
      "source": [
        "y = df[60]\n",
        "df.drop(60,axis =  'columns',inplace = True)"
      ],
      "metadata": {
        "id": "PB3FylXc1L9T"
      },
      "execution_count": 41,
      "outputs": []
    },
    {
      "cell_type": "code",
      "source": [
        "for i in df.columns:\n",
        "  \n",
        "  plt.figure(figsize=(2, 2))\n",
        "  sns.distplot(df[i])\n",
        "  plt.show()"
      ],
      "metadata": {
        "colab": {
          "base_uri": "https://localhost:8080/",
          "height": 1000
        },
        "id": "N5Lt62SM0N2W",
        "outputId": "fabd94f8-3ba7-4b5d-a5c6-ef41b3f8fc08"
      },
      "execution_count": 55,
      "outputs": [
        {
          "output_type": "stream",
          "name": "stderr",
          "text": [
            "/usr/local/lib/python3.7/dist-packages/seaborn/distributions.py:2619: FutureWarning: `distplot` is a deprecated function and will be removed in a future version. Please adapt your code to use either `displot` (a figure-level function with similar flexibility) or `histplot` (an axes-level function for histograms).\n",
            "  warnings.warn(msg, FutureWarning)\n"
          ]
        },
        {
          "output_type": "display_data",
          "data": {
            "text/plain": [
              "<Figure size 144x144 with 1 Axes>"
            ],
            "image/png": "[encoded data removed]"
          },
          "metadata": {
            "needs_background": "light"
          }
        },
        {
          "output_type": "stream",
          "name": "stderr",
          "text": [
            "/usr/local/lib/python3.7/dist-packages/seaborn/distributions.py:2619: FutureWarning: `distplot` is a deprecated function and will be removed in a future version. Please adapt your code to use either `displot` (a figure-level function with similar flexibility) or `histplot` (an axes-level function for histograms).\n",
            "  warnings.warn(msg, FutureWarning)\n"
          ]
        },
        {
          "output_type": "display_data",
          "data": {
            "text/plain": [
              "<Figure size 144x144 with 1 Axes>"
            ],
            "image/png": "[encoded data removed]"
          },
          "metadata": {
            "needs_background": "light"
          }
        },
        {
          "output_type": "stream",
          "name": "stderr",
          "text": [
            "/usr/local/lib/python3.7/dist-packages/seaborn/distributions.py:2619: FutureWarning: `distplot` is a deprecated function and will be removed in a future version. Please adapt your code to use either `displot` (a figure-level function with similar flexibility) or `histplot` (an axes-level function for histograms).\n",
            "  warnings.warn(msg, FutureWarning)\n"
          ]
        },
        {
          "output_type": "display_data",
          "data": {
            "text/plain": [
              "<Figure size 144x144 with 1 Axes>"
            ],
            "image/png": "[encoded data removed]"
          },
          "metadata": {
            "needs_background": "light"
          }
        },
        {
          "output_type": "stream",
          "name": "stderr",
          "text": [
            "/usr/local/lib/python3.7/dist-packages/seaborn/distributions.py:2619: FutureWarning: `distplot` is a deprecated function and will be removed in a future version. Please adapt your code to use either `displot` (a figure-level function with similar flexibility) or `histplot` (an axes-level function for histograms).\n",
            "  warnings.warn(msg, FutureWarning)\n"
          ]
        },
        {
          "output_type": "display_data",
          "data": {
            "text/plain": [
              "<Figure size 144x144 with 1 Axes>"
            ],
            "image/png": "[encoded data removed]"
          },
          "metadata": {
            "needs_background": "light"
          }
        },
        {
          "output_type": "stream",
          "name": "stderr",
          "text": [
            "/usr/local/lib/python3.7/dist-packages/seaborn/distributions.py:2619: FutureWarning: `distplot` is a deprecated function and will be removed in a future version. Please adapt your code to use either `displot` (a figure-level function with similar flexibility) or `histplot` (an axes-level function for histograms).\n",
            "  warnings.warn(msg, FutureWarning)\n"
          ]
        },
        {
          "output_type": "display_data",
          "data": {
            "text/plain": [
              "<Figure size 144x144 with 1 Axes>"
            ],
            "image/png": "[encoded data removed]"
          },
          "metadata": {
            "needs_background": "light"
          }
        },
        {
          "output_type": "stream",
          "name": "stderr",
          "text": [
            "/usr/local/lib/python3.7/dist-packages/seaborn/distributions.py:2619: FutureWarning: `distplot` is a deprecated function and will be removed in a future version. Please adapt your code to use either `displot` (a figure-level function with similar flexibility) or `histplot` (an axes-level function for histograms).\n",
            "  warnings.warn(msg, FutureWarning)\n"
          ]
        },
        {
          "output_type": "display_data",
          "data": {
            "text/plain": [
              "<Figure size 144x144 with 1 Axes>"
            ],
            "image/png": "[encoded data removed]"
          },
          "metadata": {
            "needs_background": "light"
          }
        },
        {
          "output_type": "stream",
          "name": "stderr",
          "text": [
            "/usr/local/lib/python3.7/dist-packages/seaborn/distributions.py:2619: FutureWarning: `distplot` is a deprecated function and will be removed in a future version. Please adapt your code to use either `displot` (a figure-level function with similar flexibility) or `histplot` (an axes-level function for histograms).\n",
            "  warnings.warn(msg, FutureWarning)\n"
          ]
        },
        {
          "output_type": "display_data",
          "data": {
            "text/plain": [
              "<Figure size 144x144 with 1 Axes>"
            ],
            "image/png": "[encoded data removed]"
          },
          "metadata": {
            "needs_background": "light"
          }
        },
        {
          "output_type": "stream",
          "name": "stderr",
          "text": [
            "/usr/local/lib/python3.7/dist-packages/seaborn/distributions.py:2619: FutureWarning: `distplot` is a deprecated function and will be removed in a future version. Please adapt your code to use either `displot` (a figure-level function with similar flexibility) or `histplot` (an axes-level function for histograms).\n",
            "  warnings.warn(msg, FutureWarning)\n"
          ]
        },
        {
          "output_type": "display_data",
          "data": {
            "text/plain": [
              "<Figure size 144x144 with 1 Axes>"
            ],
            "image/png": "[encoded data removed]"
          },
          "metadata": {
            "needs_background": "light"
          }
        },
        {
          "output_type": "stream",
          "name": "stderr",
          "text": [
            "/usr/local/lib/python3.7/dist-packages/seaborn/distributions.py:2619: FutureWarning: `distplot` is a deprecated function and will be removed in a future version. Please adapt your code to use either `displot` (a figure-level function with similar flexibility) or `histplot` (an axes-level function for histograms).\n",
            "  warnings.warn(msg, FutureWarning)\n"
          ]
        },
        {
          "output_type": "display_data",
          "data": {
            "text/plain": [
              "<Figure size 144x144 with 1 Axes>"
            ],
            "image/png": "[encoded data removed]"
          },
          "metadata": {
            "needs_background": "light"
          }
        },
        {
          "output_type": "stream",
          "name": "stderr",
          "text": [
            "/usr/local/lib/python3.7/dist-packages/seaborn/distributions.py:2619: FutureWarning: `distplot` is a deprecated function and will be removed in a future version. Please adapt your code to use either `displot` (a figure-level function with similar flexibility) or `histplot` (an axes-level function for histograms).\n",
            "  warnings.warn(msg, FutureWarning)\n"
          ]
        },
        {
          "output_type": "display_data",
          "data": {
            "text/plain": [
              "<Figure size 144x144 with 1 Axes>"
            ],
            "image/png": "[encoded data removed]"
          },
          "metadata": {
            "needs_background": "light"
          }
        },
        {
          "output_type": "stream",
          "name": "stderr",
          "text": [
            "/usr/local/lib/python3.7/dist-packages/seaborn/distributions.py:2619: FutureWarning: `distplot` is a deprecated function and will be removed in a future version. Please adapt your code to use either `displot` (a figure-level function with similar flexibility) or `histplot` (an axes-level function for histograms).\n",
            "  warnings.warn(msg, FutureWarning)\n"
          ]
        },
        {
          "output_type": "display_data",
          "data": {
            "text/plain": [
              "<Figure size 144x144 with 1 Axes>"
            ],
            "image/png": "[encoded data removed]"
          },
          "metadata": {
            "needs_background": "light"
          }
        },
        {
          "output_type": "stream",
          "name": "stderr",
          "text": [
            "/usr/local/lib/python3.7/dist-packages/seaborn/distributions.py:2619: FutureWarning: `distplot` is a deprecated function and will be removed in a future version. Please adapt your code to use either `displot` (a figure-level function with similar flexibility) or `histplot` (an axes-level function for histograms).\n",
            "  warnings.warn(msg, FutureWarning)\n"
          ]
        },
        {
          "output_type": "display_data",
          "data": {
            "text/plain": [
              "<Figure size 144x144 with 1 Axes>"
            ],
            "image/png": "[encoded data removed]"
          },
          "metadata": {
            "needs_background": "light"
          }
        },
        {
          "output_type": "stream",
          "name": "stderr",
          "text": [
            "/usr/local/lib/python3.7/dist-packages/seaborn/distributions.py:2619: FutureWarning: `distplot` is a deprecated function and will be removed in a future version. Please adapt your code to use either `displot` (a figure-level function with similar flexibility) or `histplot` (an axes-level function for histograms).\n",
            "  warnings.warn(msg, FutureWarning)\n"
          ]
        },
        {
          "output_type": "display_data",
          "data": {
            "text/plain": [
              "<Figure size 144x144 with 1 Axes>"
            ],
            "image/png": "[encoded data removed]"
          },
          "metadata": {
            "needs_background": "light"
          }
        },
        {
          "output_type": "stream",
          "name": "stderr",
          "text": [
            "/usr/local/lib/python3.7/dist-packages/seaborn/distributions.py:2619: FutureWarning: `distplot` is a deprecated function and will be removed in a future version. Please adapt your code to use either `displot` (a figure-level function with similar flexibility) or `histplot` (an axes-level function for histograms).\n",
            "  warnings.warn(msg, FutureWarning)\n"
          ]
        },
        {
          "output_type": "display_data",
          "data": {
            "text/plain": [
              "<Figure size 144x144 with 1 Axes>"
            ],
            "image/png": "[encoded data removed]"
          },
          "metadata": {
            "needs_background": "light"
          }
        },
        {
          "output_type": "stream",
          "name": "stderr",
          "text": [
            "/usr/local/lib/python3.7/dist-packages/seaborn/distributions.py:2619: FutureWarning: `distplot` is a deprecated function and will be removed in a future version. Please adapt your code to use either `displot` (a figure-level function with similar flexibility) or `histplot` (an axes-level function for histograms).\n",
            "  warnings.warn(msg, FutureWarning)\n"
          ]
        },
        {
          "output_type": "display_data",
          "data": {
            "text/plain": [
              "<Figure size 144x144 with 1 Axes>"
            ],
            "image/png": "[encoded data removed]"
          },
          "metadata": {
            "needs_background": "light"
          }
        },
        {
          "output_type": "stream",
          "name": "stderr",
          "text": [
            "/usr/local/lib/python3.7/dist-packages/seaborn/distributions.py:2619: FutureWarning: `distplot` is a deprecated function and will be removed in a future version. Please adapt your code to use either `displot` (a figure-level function with similar flexibility) or `histplot` (an axes-level function for histograms).\n",
            "  warnings.warn(msg, FutureWarning)\n"
          ]
        },
        {
          "output_type": "display_data",
          "data": {
            "text/plain": [
              "<Figure size 144x144 with 1 Axes>"
            ],
            "image/png": "[encoded data removed]"
          },
          "metadata": {
            "needs_background": "light"
          }
        },
        {
          "output_type": "stream",
          "name": "stderr",
          "text": [
            "/usr/local/lib/python3.7/dist-packages/seaborn/distributions.py:2619: FutureWarning: `distplot` is a deprecated function and will be removed in a future version. Please adapt your code to use either `displot` (a figure-level function with similar flexibility) or `histplot` (an axes-level function for histograms).\n",
            "  warnings.warn(msg, FutureWarning)\n"
          ]
        },
        {
          "output_type": "display_data",
          "data": {
            "text/plain": [
              "<Figure size 144x144 with 1 Axes>"
            ],
            "image/png": "[encoded data removed]"
          },
          "metadata": {
            "needs_background": "light"
          }
        },
        {
          "output_type": "stream",
          "name": "stderr",
          "text": [
            "/usr/local/lib/python3.7/dist-packages/seaborn/distributions.py:2619: FutureWarning: `distplot` is a deprecated function and will be removed in a future version. Please adapt your code to use either `displot` (a figure-level function with similar flexibility) or `histplot` (an axes-level function for histograms).\n",
            "  warnings.warn(msg, FutureWarning)\n"
          ]
        },
        {
          "output_type": "display_data",
          "data": {
            "text/plain": [
              "<Figure size 144x144 with 1 Axes>"
            ],
            "image/png": "[encoded data removed]"
          },
          "metadata": {
            "needs_background": "light"
          }
        },
        {
          "output_type": "stream",
          "name": "stderr",
          "text": [
            "/usr/local/lib/python3.7/dist-packages/seaborn/distributions.py:2619: FutureWarning: `distplot` is a deprecated function and will be removed in a future version. Please adapt your code to use either `displot` (a figure-level function with similar flexibility) or `histplot` (an axes-level function for histograms).\n",
            "  warnings.warn(msg, FutureWarning)\n"
          ]
        },
        {
          "output_type": "display_data",
          "data": {
            "text/plain": [
              "<Figure size 144x144 with 1 Axes>"
            ],
            "image/png": "[encoded data removed]"
          },
          "metadata": {
            "needs_background": "light"
          }
        },
        {
          "output_type": "stream",
          "name": "stderr",
          "text": [
            "/usr/local/lib/python3.7/dist-packages/seaborn/distributions.py:2619: FutureWarning: `distplot` is a deprecated function and will be removed in a future version. Please adapt your code to use either `displot` (a figure-level function with similar flexibility) or `histplot` (an axes-level function for histograms).\n",
            "  warnings.warn(msg, FutureWarning)\n"
          ]
        },
        {
          "output_type": "display_data",
          "data": {
            "text/plain": [
              "<Figure size 144x144 with 1 Axes>"
            ],
            "image/png": "[encoded data removed]"
          },
          "metadata": {
            "needs_background": "light"
          }
        },
        {
          "output_type": "stream",
          "name": "stderr",
          "text": [
            "/usr/local/lib/python3.7/dist-packages/seaborn/distributions.py:2619: FutureWarning: `distplot` is a deprecated function and will be removed in a future version. Please adapt your code to use either `displot` (a figure-level function with similar flexibility) or `histplot` (an axes-level function for histograms).\n",
            "  warnings.warn(msg, FutureWarning)\n"
          ]
        },
        {
          "output_type": "display_data",
          "data": {
            "text/plain": [
              "<Figure size 144x144 with 1 Axes>"
            ],
            "image/png": "[encoded data removed]"
          },
          "metadata": {
            "needs_background": "light"
          }
        },
        {
          "output_type": "stream",
          "name": "stderr",
          "text": [
            "/usr/local/lib/python3.7/dist-packages/seaborn/distributions.py:2619: FutureWarning: `distplot` is a deprecated function and will be removed in a future version. Please adapt your code to use either `displot` (a figure-level function with similar flexibility) or `histplot` (an axes-level function for histograms).\n",
            "  warnings.warn(msg, FutureWarning)\n"
          ]
        },
        {
          "output_type": "display_data",
          "data": {
            "text/plain": [
              "<Figure size 144x144 with 1 Axes>"
            ],
            "image/png": "[encoded data removed]"
          },
          "metadata": {
            "needs_background": "light"
          }
        },
        {
          "output_type": "stream",
          "name": "stderr",
          "text": [
            "/usr/local/lib/python3.7/dist-packages/seaborn/distributions.py:2619: FutureWarning: `distplot` is a deprecated function and will be removed in a future version. Please adapt your code to use either `displot` (a figure-level function with similar flexibility) or `histplot` (an axes-level function for histograms).\n",
            "  warnings.warn(msg, FutureWarning)\n"
          ]
        },
        {
          "output_type": "display_data",
          "data": {
            "text/plain": [
              "<Figure size 144x144 with 1 Axes>"
            ],
            "image/png": "[encoded data removed]"
          },
          "metadata": {
            "needs_background": "light"
          }
        },
        {
          "output_type": "stream",
          "name": "stderr",
          "text": [
            "/usr/local/lib/python3.7/dist-packages/seaborn/distributions.py:2619: FutureWarning: `distplot` is a deprecated function and will be removed in a future version. Please adapt your code to use either `displot` (a figure-level function with similar flexibility) or `histplot` (an axes-level function for histograms).\n",
            "  warnings.warn(msg, FutureWarning)\n"
          ]
        },
        {
          "output_type": "display_data",
          "data": {
            "text/plain": [
              "<Figure size 144x144 with 1 Axes>"
            ],
            "image/png": "[encoded data removed]"
          },
          "metadata": {
            "needs_background": "light"
          }
        },
        {
          "output_type": "stream",
          "name": "stderr",
          "text": [
            "/usr/local/lib/python3.7/dist-packages/seaborn/distributions.py:2619: FutureWarning: `distplot` is a deprecated function and will be removed in a future version. Please adapt your code to use either `displot` (a figure-level function with similar flexibility) or `histplot` (an axes-level function for histograms).\n",
            "  warnings.warn(msg, FutureWarning)\n"
          ]
        },
        {
          "output_type": "display_data",
          "data": {
            "text/plain": [
              "<Figure size 144x144 with 1 Axes>"
            ],
            "image/png": "[encoded data removed]"
          },
          "metadata": {
            "needs_background": "light"
          }
        },
        {
          "output_type": "stream",
          "name": "stderr",
          "text": [
            "/usr/local/lib/python3.7/dist-packages/seaborn/distributions.py:2619: FutureWarning: `distplot` is a deprecated function and will be removed in a future version. Please adapt your code to use either `displot` (a figure-level function with similar flexibility) or `histplot` (an axes-level function for histograms).\n",
            "  warnings.warn(msg, FutureWarning)\n"
          ]
        },
        {
          "output_type": "display_data",
          "data": {
            "text/plain": [
              "<Figure size 144x144 with 1 Axes>"
            ],
            "image/png": "[encoded data removed]"
          },
          "metadata": {
            "needs_background": "light"
          }
        },
        {
          "output_type": "stream",
          "name": "stderr",
          "text": [
            "/usr/local/lib/python3.7/dist-packages/seaborn/distributions.py:2619: FutureWarning: `distplot` is a deprecated function and will be removed in a future version. Please adapt your code to use either `displot` (a figure-level function with similar flexibility) or `histplot` (an axes-level function for histograms).\n",
            "  warnings.warn(msg, FutureWarning)\n"
          ]
        },
        {
          "output_type": "display_data",
          "data": {
            "text/plain": [
              "<Figure size 144x144 with 1 Axes>"
            ],
            "image/png": "[encoded data removed]"
          },
          "metadata": {
            "needs_background": "light"
          }
        },
        {
          "output_type": "stream",
          "name": "stderr",
          "text": [
            "/usr/local/lib/python3.7/dist-packages/seaborn/distributions.py:2619: FutureWarning: `distplot` is a deprecated function and will be removed in a future version. Please adapt your code to use either `displot` (a figure-level function with similar flexibility) or `histplot` (an axes-level function for histograms).\n",
            "  warnings.warn(msg, FutureWarning)\n"
          ]
        },
        {
          "output_type": "display_data",
          "data": {
            "text/plain": [
              "<Figure size 144x144 with 1 Axes>"
            ],
            "image/png": "[encoded data removed]"
          },
          "metadata": {
            "needs_background": "light"
          }
        },
        {
          "output_type": "stream",
          "name": "stderr",
          "text": [
            "/usr/local/lib/python3.7/dist-packages/seaborn/distributions.py:2619: FutureWarning: `distplot` is a deprecated function and will be removed in a future version. Please adapt your code to use either `displot` (a figure-level function with similar flexibility) or `histplot` (an axes-level function for histograms).\n",
            "  warnings.warn(msg, FutureWarning)\n"
          ]
        },
        {
          "output_type": "display_data",
          "data": {
            "text/plain": [
              "<Figure size 144x144 with 1 Axes>"
            ],
            "image/png": "[encoded data removed]"
          },
          "metadata": {
            "needs_background": "light"
          }
        },
        {
          "output_type": "stream",
          "name": "stderr",
          "text": [
            "/usr/local/lib/python3.7/dist-packages/seaborn/distributions.py:2619: FutureWarning: `distplot` is a deprecated function and will be removed in a future version. Please adapt your code to use either `displot` (a figure-level function with similar flexibility) or `histplot` (an axes-level function for histograms).\n",
            "  warnings.warn(msg, FutureWarning)\n"
          ]
        },
        {
          "output_type": "display_data",
          "data": {
            "text/plain": [
              "<Figure size 144x144 with 1 Axes>"
            ],
            "image/png": "[encoded data removed]"
          },
          "metadata": {
            "needs_background": "light"
          }
        },
        {
          "output_type": "stream",
          "name": "stderr",
          "text": [
            "/usr/local/lib/python3.7/dist-packages/seaborn/distributions.py:2619: FutureWarning: `distplot` is a deprecated function and will be removed in a future version. Please adapt your code to use either `displot` (a figure-level function with similar flexibility) or `histplot` (an axes-level function for histograms).\n",
            "  warnings.warn(msg, FutureWarning)\n"
          ]
        },
        {
          "output_type": "display_data",
          "data": {
            "text/plain": [
              "<Figure size 144x144 with 1 Axes>"
            ],
            "image/png": "[encoded data removed]"
          },
          "metadata": {
            "needs_background": "light"
          }
        },
        {
          "output_type": "stream",
          "name": "stderr",
          "text": [
            "/usr/local/lib/python3.7/dist-packages/seaborn/distributions.py:2619: FutureWarning: `distplot` is a deprecated function and will be removed in a future version. Please adapt your code to use either `displot` (a figure-level function with similar flexibility) or `histplot` (an axes-level function for histograms).\n",
            "  warnings.warn(msg, FutureWarning)\n"
          ]
        },
        {
          "output_type": "display_data",
          "data": {
            "text/plain": [
              "<Figure size 144x144 with 1 Axes>"
            ],
            "image/png": "[encoded data removed]"
          },
          "metadata": {
            "needs_background": "light"
          }
        },
        {
          "output_type": "stream",
          "name": "stderr",
          "text": [
            "/usr/local/lib/python3.7/dist-packages/seaborn/distributions.py:2619: FutureWarning: `distplot` is a deprecated function and will be removed in a future version. Please adapt your code to use either `displot` (a figure-level function with similar flexibility) or `histplot` (an axes-level function for histograms).\n",
            "  warnings.warn(msg, FutureWarning)\n"
          ]
        },
        {
          "output_type": "display_data",
          "data": {
            "text/plain": [
              "<Figure size 144x144 with 1 Axes>"
            ],
            "image/png": "[encoded data removed]"
          },
          "metadata": {
            "needs_background": "light"
          }
        },
        {
          "output_type": "stream",
          "name": "stderr",
          "text": [
            "/usr/local/lib/python3.7/dist-packages/seaborn/distributions.py:2619: FutureWarning: `distplot` is a deprecated function and will be removed in a future version. Please adapt your code to use either `displot` (a figure-level function with similar flexibility) or `histplot` (an axes-level function for histograms).\n",
            "  warnings.warn(msg, FutureWarning)\n"
          ]
        },
        {
          "output_type": "display_data",
          "data": {
            "text/plain": [
              "<Figure size 144x144 with 1 Axes>"
            ],
            "image/png": "[encoded data removed]"
          },
          "metadata": {
            "needs_background": "light"
          }
        },
        {
          "output_type": "stream",
          "name": "stderr",
          "text": [
            "/usr/local/lib/python3.7/dist-packages/seaborn/distributions.py:2619: FutureWarning: `distplot` is a deprecated function and will be removed in a future version. Please adapt your code to use either `displot` (a figure-level function with similar flexibility) or `histplot` (an axes-level function for histograms).\n",
            "  warnings.warn(msg, FutureWarning)\n"
          ]
        },
        {
          "output_type": "display_data",
          "data": {
            "text/plain": [
              "<Figure size 144x144 with 1 Axes>"
            ],
            "image/png": "[encoded data removed]"
          },
          "metadata": {
            "needs_background": "light"
          }
        },
        {
          "output_type": "stream",
          "name": "stderr",
          "text": [
            "/usr/local/lib/python3.7/dist-packages/seaborn/distributions.py:2619: FutureWarning: `distplot` is a deprecated function and will be removed in a future version. Please adapt your code to use either `displot` (a figure-level function with similar flexibility) or `histplot` (an axes-level function for histograms).\n",
            "  warnings.warn(msg, FutureWarning)\n"
          ]
        },
        {
          "output_type": "display_data",
          "data": {
            "text/plain": [
              "<Figure size 144x144 with 1 Axes>"
            ],
            "image/png": "[encoded data removed]"
          },
          "metadata": {
            "needs_background": "light"
          }
        },
        {
          "output_type": "stream",
          "name": "stderr",
          "text": [
            "/usr/local/lib/python3.7/dist-packages/seaborn/distributions.py:2619: FutureWarning: `distplot` is a deprecated function and will be removed in a future version. Please adapt your code to use either `displot` (a figure-level function with similar flexibility) or `histplot` (an axes-level function for histograms).\n",
            "  warnings.warn(msg, FutureWarning)\n"
          ]
        },
        {
          "output_type": "display_data",
          "data": {
            "text/plain": [
              "<Figure size 144x144 with 1 Axes>"
            ],
            "image/png": "[encoded data removed]"
          },
          "metadata": {
            "needs_background": "light"
          }
        },
        {
          "output_type": "stream",
          "name": "stderr",
          "text": [
            "/usr/local/lib/python3.7/dist-packages/seaborn/distributions.py:2619: FutureWarning: `distplot` is a deprecated function and will be removed in a future version. Please adapt your code to use either `displot` (a figure-level function with similar flexibility) or `histplot` (an axes-level function for histograms).\n",
            "  warnings.warn(msg, FutureWarning)\n"
          ]
        },
        {
          "output_type": "display_data",
          "data": {
            "text/plain": [
              "<Figure size 144x144 with 1 Axes>"
            ],
            "image/png": "[encoded data removed]"
          },
          "metadata": {
            "needs_background": "light"
          }
        },
        {
          "output_type": "stream",
          "name": "stderr",
          "text": [
            "/usr/local/lib/python3.7/dist-packages/seaborn/distributions.py:2619: FutureWarning: `distplot` is a deprecated function and will be removed in a future version. Please adapt your code to use either `displot` (a figure-level function with similar flexibility) or `histplot` (an axes-level function for histograms).\n",
            "  warnings.warn(msg, FutureWarning)\n"
          ]
        },
        {
          "output_type": "display_data",
          "data": {
            "text/plain": [
              "<Figure size 144x144 with 1 Axes>"
            ],
            "image/png": "[encoded data removed]"
          },
          "metadata": {
            "needs_background": "light"
          }
        },
        {
          "output_type": "stream",
          "name": "stderr",
          "text": [
            "/usr/local/lib/python3.7/dist-packages/seaborn/distributions.py:2619: FutureWarning: `distplot` is a deprecated function and will be removed in a future version. Please adapt your code to use either `displot` (a figure-level function with similar flexibility) or `histplot` (an axes-level function for histograms).\n",
            "  warnings.warn(msg, FutureWarning)\n"
          ]
        },
        {
          "output_type": "display_data",
          "data": {
            "text/plain": [
              "<Figure size 144x144 with 1 Axes>"
            ],
            "image/png": "[encoded data removed]"
          },
          "metadata": {
            "needs_background": "light"
          }
        },
        {
          "output_type": "stream",
          "name": "stderr",
          "text": [
            "/usr/local/lib/python3.7/dist-packages/seaborn/distributions.py:2619: FutureWarning: `distplot` is a deprecated function and will be removed in a future version. Please adapt your code to use either `displot` (a figure-level function with similar flexibility) or `histplot` (an axes-level function for histograms).\n",
            "  warnings.warn(msg, FutureWarning)\n"
          ]
        },
        {
          "output_type": "display_data",
          "data": {
            "text/plain": [
              "<Figure size 144x144 with 1 Axes>"
            ],
            "image/png": "[encoded data removed]"
          },
          "metadata": {
            "needs_background": "light"
          }
        },
        {
          "output_type": "stream",
          "name": "stderr",
          "text": [
            "/usr/local/lib/python3.7/dist-packages/seaborn/distributions.py:2619: FutureWarning: `distplot` is a deprecated function and will be removed in a future version. Please adapt your code to use either `displot` (a figure-level function with similar flexibility) or `histplot` (an axes-level function for histograms).\n",
            "  warnings.warn(msg, FutureWarning)\n"
          ]
        },
        {
          "output_type": "display_data",
          "data": {
            "text/plain": [
              "<Figure size 144x144 with 1 Axes>"
            ],
            "image/png": "[encoded data removed]"
          },
          "metadata": {
            "needs_background": "light"
          }
        },
        {
          "output_type": "stream",
          "name": "stderr",
          "text": [
            "/usr/local/lib/python3.7/dist-packages/seaborn/distributions.py:2619: FutureWarning: `distplot` is a deprecated function and will be removed in a future version. Please adapt your code to use either `displot` (a figure-level function with similar flexibility) or `histplot` (an axes-level function for histograms).\n",
            "  warnings.warn(msg, FutureWarning)\n"
          ]
        },
        {
          "output_type": "display_data",
          "data": {
            "text/plain": [
              "<Figure size 144x144 with 1 Axes>"
            ],
            "image/png": "[encoded data removed]"
          },
          "metadata": {
            "needs_background": "light"
          }
        },
        {
          "output_type": "stream",
          "name": "stderr",
          "text": [
            "/usr/local/lib/python3.7/dist-packages/seaborn/distributions.py:2619: FutureWarning: `distplot` is a deprecated function and will be removed in a future version. Please adapt your code to use either `displot` (a figure-level function with similar flexibility) or `histplot` (an axes-level function for histograms).\n",
            "  warnings.warn(msg, FutureWarning)\n"
          ]
        },
        {
          "output_type": "display_data",
          "data": {
            "text/plain": [
              "<Figure size 144x144 with 1 Axes>"
            ],
            "image/png": "[encoded data removed]"
          },
          "metadata": {
            "needs_background": "light"
          }
        },
        {
          "output_type": "stream",
          "name": "stderr",
          "text": [
            "/usr/local/lib/python3.7/dist-packages/seaborn/distributions.py:2619: FutureWarning: `distplot` is a deprecated function and will be removed in a future version. Please adapt your code to use either `displot` (a figure-level function with similar flexibility) or `histplot` (an axes-level function for histograms).\n",
            "  warnings.warn(msg, FutureWarning)\n"
          ]
        },
        {
          "output_type": "display_data",
          "data": {
            "text/plain": [
              "<Figure size 144x144 with 1 Axes>"
            ],
            "image/png": "[encoded data removed]"
          },
          "metadata": {
            "needs_background": "light"
          }
        },
        {
          "output_type": "stream",
          "name": "stderr",
          "text": [
            "/usr/local/lib/python3.7/dist-packages/seaborn/distributions.py:2619: FutureWarning: `distplot` is a deprecated function and will be removed in a future version. Please adapt your code to use either `displot` (a figure-level function with similar flexibility) or `histplot` (an axes-level function for histograms).\n",
            "  warnings.warn(msg, FutureWarning)\n"
          ]
        },
        {
          "output_type": "display_data",
          "data": {
            "text/plain": [
              "<Figure size 144x144 with 1 Axes>"
            ],
            "image/png": "[encoded data removed]"
          },
          "metadata": {
            "needs_background": "light"
          }
        },
        {
          "output_type": "stream",
          "name": "stderr",
          "text": [
            "/usr/local/lib/python3.7/dist-packages/seaborn/distributions.py:2619: FutureWarning: `distplot` is a deprecated function and will be removed in a future version. Please adapt your code to use either `displot` (a figure-level function with similar flexibility) or `histplot` (an axes-level function for histograms).\n",
            "  warnings.warn(msg, FutureWarning)\n"
          ]
        },
        {
          "output_type": "display_data",
          "data": {
            "text/plain": [
              "<Figure size 144x144 with 1 Axes>"
            ],
            "image/png": "[encoded data removed]"
          },
          "metadata": {
            "needs_background": "light"
          }
        },
        {
          "output_type": "stream",
          "name": "stderr",
          "text": [
            "/usr/local/lib/python3.7/dist-packages/seaborn/distributions.py:2619: FutureWarning: `distplot` is a deprecated function and will be removed in a future version. Please adapt your code to use either `displot` (a figure-level function with similar flexibility) or `histplot` (an axes-level function for histograms).\n",
            "  warnings.warn(msg, FutureWarning)\n"
          ]
        },
        {
          "output_type": "display_data",
          "data": {
            "text/plain": [
              "<Figure size 144x144 with 1 Axes>"
            ],
            "image/png": "[encoded data removed]"
          },
          "metadata": {
            "needs_background": "light"
          }
        },
        {
          "output_type": "stream",
          "name": "stderr",
          "text": [
            "/usr/local/lib/python3.7/dist-packages/seaborn/distributions.py:2619: FutureWarning: `distplot` is a deprecated function and will be removed in a future version. Please adapt your code to use either `displot` (a figure-level function with similar flexibility) or `histplot` (an axes-level function for histograms).\n",
            "  warnings.warn(msg, FutureWarning)\n"
          ]
        },
        {
          "output_type": "display_data",
          "data": {
            "text/plain": [
              "<Figure size 144x144 with 1 Axes>"
            ],
            "image/png": "[encoded data removed]"
          },
          "metadata": {
            "needs_background": "light"
          }
        },
        {
          "output_type": "stream",
          "name": "stderr",
          "text": [
            "/usr/local/lib/python3.7/dist-packages/seaborn/distributions.py:2619: FutureWarning: `distplot` is a deprecated function and will be removed in a future version. Please adapt your code to use either `displot` (a figure-level function with similar flexibility) or `histplot` (an axes-level function for histograms).\n",
            "  warnings.warn(msg, FutureWarning)\n"
          ]
        },
        {
          "output_type": "display_data",
          "data": {
            "text/plain": [
              "<Figure size 144x144 with 1 Axes>"
            ],
            "image/png": "[encoded data removed]"
          },
          "metadata": {
            "needs_background": "light"
          }
        },
        {
          "output_type": "stream",
          "name": "stderr",
          "text": [
            "/usr/local/lib/python3.7/dist-packages/seaborn/distributions.py:2619: FutureWarning: `distplot` is a deprecated function and will be removed in a future version. Please adapt your code to use either `displot` (a figure-level function with similar flexibility) or `histplot` (an axes-level function for histograms).\n",
            "  warnings.warn(msg, FutureWarning)\n"
          ]
        },
        {
          "output_type": "display_data",
          "data": {
            "text/plain": [
              "<Figure size 144x144 with 1 Axes>"
            ],
            "image/png": "[encoded data removed]"
          },
          "metadata": {
            "needs_background": "light"
          }
        },
        {
          "output_type": "stream",
          "name": "stderr",
          "text": [
            "/usr/local/lib/python3.7/dist-packages/seaborn/distributions.py:2619: FutureWarning: `distplot` is a deprecated function and will be removed in a future version. Please adapt your code to use either `displot` (a figure-level function with similar flexibility) or `histplot` (an axes-level function for histograms).\n",
            "  warnings.warn(msg, FutureWarning)\n"
          ]
        },
        {
          "output_type": "display_data",
          "data": {
            "text/plain": [
              "<Figure size 144x144 with 1 Axes>"
            ],
            "image/png": "[encoded data removed]"
          },
          "metadata": {
            "needs_background": "light"
          }
        },
        {
          "output_type": "stream",
          "name": "stderr",
          "text": [
            "/usr/local/lib/python3.7/dist-packages/seaborn/distributions.py:2619: FutureWarning: `distplot` is a deprecated function and will be removed in a future version. Please adapt your code to use either `displot` (a figure-level function with similar flexibility) or `histplot` (an axes-level function for histograms).\n",
            "  warnings.warn(msg, FutureWarning)\n"
          ]
        },
        {
          "output_type": "display_data",
          "data": {
            "text/plain": [
              "<Figure size 144x144 with 1 Axes>"
            ],
            "image/png": "[encoded data removed]"
          },
          "metadata": {
            "needs_background": "light"
          }
        },
        {
          "output_type": "stream",
          "name": "stderr",
          "text": [
            "/usr/local/lib/python3.7/dist-packages/seaborn/distributions.py:2619: FutureWarning: `distplot` is a deprecated function and will be removed in a future version. Please adapt your code to use either `displot` (a figure-level function with similar flexibility) or `histplot` (an axes-level function for histograms).\n",
            "  warnings.warn(msg, FutureWarning)\n"
          ]
        },
        {
          "output_type": "display_data",
          "data": {
            "text/plain": [
              "<Figure size 144x144 with 1 Axes>"
            ],
            "image/png": "[encoded data removed]"
          },
          "metadata": {
            "needs_background": "light"
          }
        },
        {
          "output_type": "stream",
          "name": "stderr",
          "text": [
            "/usr/local/lib/python3.7/dist-packages/seaborn/distributions.py:2619: FutureWarning: `distplot` is a deprecated function and will be removed in a future version. Please adapt your code to use either `displot` (a figure-level function with similar flexibility) or `histplot` (an axes-level function for histograms).\n",
            "  warnings.warn(msg, FutureWarning)\n"
          ]
        },
        {
          "output_type": "display_data",
          "data": {
            "text/plain": [
              "<Figure size 144x144 with 1 Axes>"
            ],
            "image/png": "[encoded data removed]"
          },
          "metadata": {
            "needs_background": "light"
          }
        },
        {
          "output_type": "stream",
          "name": "stderr",
          "text": [
            "/usr/local/lib/python3.7/dist-packages/seaborn/distributions.py:2619: FutureWarning: `distplot` is a deprecated function and will be removed in a future version. Please adapt your code to use either `displot` (a figure-level function with similar flexibility) or `histplot` (an axes-level function for histograms).\n",
            "  warnings.warn(msg, FutureWarning)\n"
          ]
        },
        {
          "output_type": "display_data",
          "data": {
            "text/plain": [
              "<Figure size 144x144 with 1 Axes>"
            ],
            "image/png": "[encoded data removed]"
          },
          "metadata": {
            "needs_background": "light"
          }
        },
        {
          "output_type": "stream",
          "name": "stderr",
          "text": [
            "/usr/local/lib/python3.7/dist-packages/seaborn/distributions.py:2619: FutureWarning: `distplot` is a deprecated function and will be removed in a future version. Please adapt your code to use either `displot` (a figure-level function with similar flexibility) or `histplot` (an axes-level function for histograms).\n",
            "  warnings.warn(msg, FutureWarning)\n"
          ]
        },
        {
          "output_type": "display_data",
          "data": {
            "text/plain": [
              "<Figure size 144x144 with 1 Axes>"
            ],
            "image/png": "[encoded data removed]"
          },
          "metadata": {
            "needs_background": "light"
          }
        },
        {
          "output_type": "stream",
          "name": "stderr",
          "text": [
            "/usr/local/lib/python3.7/dist-packages/seaborn/distributions.py:2619: FutureWarning: `distplot` is a deprecated function and will be removed in a future version. Please adapt your code to use either `displot` (a figure-level function with similar flexibility) or `histplot` (an axes-level function for histograms).\n",
            "  warnings.warn(msg, FutureWarning)\n"
          ]
        },
        {
          "output_type": "display_data",
          "data": {
            "text/plain": [
              "<Figure size 144x144 with 1 Axes>"
            ],
            "image/png": "[encoded data removed]"
          },
          "metadata": {
            "needs_background": "light"
          }
        },
        {
          "output_type": "stream",
          "name": "stderr",
          "text": [
            "/usr/local/lib/python3.7/dist-packages/seaborn/distributions.py:2619: FutureWarning: `distplot` is a deprecated function and will be removed in a future version. Please adapt your code to use either `displot` (a figure-level function with similar flexibility) or `histplot` (an axes-level function for histograms).\n",
            "  warnings.warn(msg, FutureWarning)\n"
          ]
        },
        {
          "output_type": "display_data",
          "data": {
            "text/plain": [
              "<Figure size 144x144 with 1 Axes>"
            ],
            "image/png": "[encoded data removed]"
          },
          "metadata": {
            "needs_background": "light"
          }
        },
        {
          "output_type": "stream",
          "name": "stderr",
          "text": [
            "/usr/local/lib/python3.7/dist-packages/seaborn/distributions.py:2619: FutureWarning: `distplot` is a deprecated function and will be removed in a future version. Please adapt your code to use either `displot` (a figure-level function with similar flexibility) or `histplot` (an axes-level function for histograms).\n",
            "  warnings.warn(msg, FutureWarning)\n"
          ]
        },
        {
          "output_type": "display_data",
          "data": {
            "text/plain": [
              "<Figure size 144x144 with 1 Axes>"
            ],
            "image/png": "[encoded data removed]"
          },
          "metadata": {
            "needs_background": "light"
          }
        }
      ]
    },
    {
      "cell_type": "code",
      "source": [
        "df.describe()"
      ],
      "metadata": {
        "colab": {
          "base_uri": "https://localhost:8080/",
          "height": 393
        },
        "id": "LH4P7IDA04_0",
        "outputId": "6a9b0866-b326-4fae-8d63-24d9a3067071"
      },
      "execution_count": 56,
      "outputs": [
        {
          "output_type": "execute_result",
          "data": {
            "text/plain": [
              "               0           1           2           3           4           5   \\\n",
              "count  208.000000  208.000000  208.000000  208.000000  208.000000  208.000000   \n",
              "mean     0.029164    0.038437    0.043832    0.053892    0.075202    0.104570   \n",
              "std      0.022991    0.032960    0.038428    0.046528    0.055552    0.059105   \n",
              "min      0.001500    0.000600    0.001500    0.005800    0.006700    0.010200   \n",
              "25%      0.013350    0.016450    0.018950    0.024375    0.038050    0.067025   \n",
              "50%      0.022800    0.030800    0.034300    0.044050    0.062500    0.092150   \n",
              "75%      0.035550    0.047950    0.057950    0.064500    0.100275    0.134125   \n",
              "max      0.137100    0.233900    0.305900    0.426400    0.401000    0.382300   \n",
              "\n",
              "               6           7           8           9   ...          50  \\\n",
              "count  208.000000  208.000000  208.000000  208.000000  ...  208.000000   \n",
              "mean     0.121747    0.134799    0.178003    0.208259  ...    0.016069   \n",
              "std      0.061788    0.085152    0.118387    0.134416  ...    0.012008   \n",
              "min      0.003300    0.005500    0.007500    0.011300  ...    0.000000   \n",
              "25%      0.080900    0.080425    0.097025    0.111275  ...    0.008425   \n",
              "50%      0.106950    0.112100    0.152250    0.182400  ...    0.013900   \n",
              "75%      0.154000    0.169600    0.233425    0.268700  ...    0.020825   \n",
              "max      0.372900    0.459000    0.682800    0.710600  ...    0.100400   \n",
              "\n",
              "               51          52          53          54          55          56  \\\n",
              "count  208.000000  208.000000  208.000000  208.000000  208.000000  208.000000   \n",
              "mean     0.013420    0.010709    0.010941    0.009290    0.008222    0.007820   \n",
              "std      0.009634    0.007060    0.007301    0.007088    0.005736    0.005785   \n",
              "min      0.000800    0.000500    0.001000    0.000600    0.000400    0.000300   \n",
              "25%      0.007275    0.005075    0.005375    0.004150    0.004400    0.003700   \n",
              "50%      0.011400    0.009550    0.009300    0.007500    0.006850    0.005950   \n",
              "75%      0.016725    0.014900    0.014500    0.012100    0.010575    0.010425   \n",
              "max      0.070900    0.039000    0.035200    0.044700    0.039400    0.035500   \n",
              "\n",
              "               57          58          59  \n",
              "count  208.000000  208.000000  208.000000  \n",
              "mean     0.007949    0.007941    0.006507  \n",
              "std      0.006470    0.006181    0.005031  \n",
              "min      0.000300    0.000100    0.000600  \n",
              "25%      0.003600    0.003675    0.003100  \n",
              "50%      0.005800    0.006400    0.005300  \n",
              "75%      0.010350    0.010325    0.008525  \n",
              "max      0.044000    0.036400    0.043900  \n",
              "\n",
              "[8 rows x 60 columns]"
            ],
            "text/html": [
              "\n",
              "  <div id=\"df-b740f470-170f-4592-924d-5895a4449b46\">\n",
              "    <div class=\"colab-df-container\">\n",
              "      <div>\n",
              "<style scoped>\n",
              "    .dataframe tbody tr th:only-of-type {\n",
              "        vertical-align: middle;\n",
              "    }\n",
              "\n",
              "    .dataframe tbody tr th {\n",
              "        vertical-align: top;\n",
              "    }\n",
              "\n",
              "    .dataframe thead th {\n",
              "        text-align: right;\n",
              "    }\n",
              "</style>\n",
              "<table border=\"1\" class=\"dataframe\">\n",
              "  <thead>\n",
              "    <tr style=\"text-align: right;\">\n",
              "      <th></th>\n",
              "      <th>0</th>\n",
              "      <th>1</th>\n",
              "      <th>2</th>\n",
              "      <th>3</th>\n",
              "      <th>4</th>\n",
              "      <th>5</th>\n",
              "      <th>6</th>\n",
              "      <th>7</th>\n",
              "      <th>8</th>\n",
              "      <th>9</th>\n",
              "      <th>...</th>\n",
              "      <th>50</th>\n",
              "      <th>51</th>\n",
              "      <th>52</th>\n",
              "      <th>53</th>\n",
              "      <th>54</th>\n",
              "      <th>55</th>\n",
              "      <th>56</th>\n",
              "      <th>57</th>\n",
              "      <th>58</th>\n",
              "      <th>59</th>\n",
              "    </tr>\n",
              "  </thead>\n",
              "  <tbody>\n",
              "    <tr>\n",
              "      <th>count</th>\n",
              "      <td>208.000000</td>\n",
              "      <td>208.000000</td>\n",
              "      <td>208.000000</td>\n",
              "      <td>208.000000</td>\n",
              "      <td>208.000000</td>\n",
              "      <td>208.000000</td>\n",
              "      <td>208.000000</td>\n",
              "      <td>208.000000</td>\n",
              "      <td>208.000000</td>\n",
              "      <td>208.000000</td>\n",
              "      <td>...</td>\n",
              "      <td>208.000000</td>\n",
              "      <td>208.000000</td>\n",
              "      <td>208.000000</td>\n",
              "      <td>208.000000</td>\n",
              "      <td>208.000000</td>\n",
              "      <td>208.000000</td>\n",
              "      <td>208.000000</td>\n",
              "      <td>208.000000</td>\n",
              "      <td>208.000000</td>\n",
              "      <td>208.000000</td>\n",
              "    </tr>\n",
              "    <tr>\n",
              "      <th>mean</th>\n",
              "      <td>0.029164</td>\n",
              "      <td>0.038437</td>\n",
              "      <td>0.043832</td>\n",
              "      <td>0.053892</td>\n",
              "      <td>0.075202</td>\n",
              "      <td>0.104570</td>\n",
              "      <td>0.121747</td>\n",
              "      <td>0.134799</td>\n",
              "      <td>0.178003</td>\n",
              "      <td>0.208259</td>\n",
              "      <td>...</td>\n",
              "      <td>0.016069</td>\n",
              "      <td>0.013420</td>\n",
              "      <td>0.010709</td>\n",
              "      <td>0.010941</td>\n",
              "      <td>0.009290</td>\n",
              "      <td>0.008222</td>\n",
              "      <td>0.007820</td>\n",
              "      <td>0.007949</td>\n",
              "      <td>0.007941</td>\n",
              "      <td>0.006507</td>\n",
              "    </tr>\n",
              "    <tr>\n",
              "      <th>std</th>\n",
              "      <td>0.022991</td>\n",
              "      <td>0.032960</td>\n",
              "      <td>0.038428</td>\n",
              "      <td>0.046528</td>\n",
              "      <td>0.055552</td>\n",
              "      <td>0.059105</td>\n",
              "      <td>0.061788</td>\n",
              "      <td>0.085152</td>\n",
              "      <td>0.118387</td>\n",
              "      <td>0.134416</td>\n",
              "      <td>...</td>\n",
              "      <td>0.012008</td>\n",
              "      <td>0.009634</td>\n",
              "      <td>0.007060</td>\n",
              "      <td>0.007301</td>\n",
              "      <td>0.007088</td>\n",
              "      <td>0.005736</td>\n",
              "      <td>0.005785</td>\n",
              "      <td>0.006470</td>\n",
              "      <td>0.006181</td>\n",
              "      <td>0.005031</td>\n",
              "    </tr>\n",
              "    <tr>\n",
              "      <th>min</th>\n",
              "      <td>0.001500</td>\n",
              "      <td>0.000600</td>\n",
              "      <td>0.001500</td>\n",
              "      <td>0.005800</td>\n",
              "      <td>0.006700</td>\n",
              "      <td>0.010200</td>\n",
              "      <td>0.003300</td>\n",
              "      <td>0.005500</td>\n",
              "      <td>0.007500</td>\n",
              "      <td>0.011300</td>\n",
              "      <td>...</td>\n",
              "      <td>0.000000</td>\n",
              "      <td>0.000800</td>\n",
              "      <td>0.000500</td>\n",
              "      <td>0.001000</td>\n",
              "      <td>0.000600</td>\n",
              "      <td>0.000400</td>\n",
              "      <td>0.000300</td>\n",
              "      <td>0.000300</td>\n",
              "      <td>0.000100</td>\n",
              "      <td>0.000600</td>\n",
              "    </tr>\n",
              "    <tr>\n",
              "      <th>25%</th>\n",
              "      <td>0.013350</td>\n",
              "      <td>0.016450</td>\n",
              "      <td>0.018950</td>\n",
              "      <td>0.024375</td>\n",
              "      <td>0.038050</td>\n",
              "      <td>0.067025</td>\n",
              "      <td>0.080900</td>\n",
              "      <td>0.080425</td>\n",
              "      <td>0.097025</td>\n",
              "      <td>0.111275</td>\n",
              "      <td>...</td>\n",
              "      <td>0.008425</td>\n",
              "      <td>0.007275</td>\n",
              "      <td>0.005075</td>\n",
              "      <td>0.005375</td>\n",
              "      <td>0.004150</td>\n",
              "      <td>0.004400</td>\n",
              "      <td>0.003700</td>\n",
              "      <td>0.003600</td>\n",
              "      <td>0.003675</td>\n",
              "      <td>0.003100</td>\n",
              "    </tr>\n",
              "    <tr>\n",
              "      <th>50%</th>\n",
              "      <td>0.022800</td>\n",
              "      <td>0.030800</td>\n",
              "      <td>0.034300</td>\n",
              "      <td>0.044050</td>\n",
              "      <td>0.062500</td>\n",
              "      <td>0.092150</td>\n",
              "      <td>0.106950</td>\n",
              "      <td>0.112100</td>\n",
              "      <td>0.152250</td>\n",
              "      <td>0.182400</td>\n",
              "      <td>...</td>\n",
              "      <td>0.013900</td>\n",
              "      <td>0.011400</td>\n",
              "      <td>0.009550</td>\n",
              "      <td>0.009300</td>\n",
              "      <td>0.007500</td>\n",
              "      <td>0.006850</td>\n",
              "      <td>0.005950</td>\n",
              "      <td>0.005800</td>\n",
              "      <td>0.006400</td>\n",
              "      <td>0.005300</td>\n",
              "    </tr>\n",
              "    <tr>\n",
              "      <th>75%</th>\n",
              "      <td>0.035550</td>\n",
              "      <td>0.047950</td>\n",
              "      <td>0.057950</td>\n",
              "      <td>0.064500</td>\n",
              "      <td>0.100275</td>\n",
              "      <td>0.134125</td>\n",
              "      <td>0.154000</td>\n",
              "      <td>0.169600</td>\n",
              "      <td>0.233425</td>\n",
              "      <td>0.268700</td>\n",
              "      <td>...</td>\n",
              "      <td>0.020825</td>\n",
              "      <td>0.016725</td>\n",
              "      <td>0.014900</td>\n",
              "      <td>0.014500</td>\n",
              "      <td>0.012100</td>\n",
              "      <td>0.010575</td>\n",
              "      <td>0.010425</td>\n",
              "      <td>0.010350</td>\n",
              "      <td>0.010325</td>\n",
              "      <td>0.008525</td>\n",
              "    </tr>\n",
              "    <tr>\n",
              "      <th>max</th>\n",
              "      <td>0.137100</td>\n",
              "      <td>0.233900</td>\n",
              "      <td>0.305900</td>\n",
              "      <td>0.426400</td>\n",
              "      <td>0.401000</td>\n",
              "      <td>0.382300</td>\n",
              "      <td>0.372900</td>\n",
              "      <td>0.459000</td>\n",
              "      <td>0.682800</td>\n",
              "      <td>0.710600</td>\n",
              "      <td>...</td>\n",
              "      <td>0.100400</td>\n",
              "      <td>0.070900</td>\n",
              "      <td>0.039000</td>\n",
              "      <td>0.035200</td>\n",
              "      <td>0.044700</td>\n",
              "      <td>0.039400</td>\n",
              "      <td>0.035500</td>\n",
              "      <td>0.044000</td>\n",
              "      <td>0.036400</td>\n",
              "      <td>0.043900</td>\n",
              "    </tr>\n",
              "  </tbody>\n",
              "</table>\n",
              "<p>8 rows × 60 columns</p>\n",
              "</div>\n",
              "      <button class=\"colab-df-convert\" onclick=\"convertToInteractive('df-b740f470-170f-4592-924d-5895a4449b46')\"\n",
              "              title=\"Convert this dataframe to an interactive table.\"\n",
              "              style=\"display:none;\">\n",
              "        \n",
              "  <svg xmlns=\"http://www.w3.org/2000/svg\" height=\"24px\"viewBox=\"0 0 24 24\"\n",
              "       width=\"24px\">\n",
              "    <path d=\"M0 0h24v24H0V0z\" fill=\"none\"/>\n",
              "    <path d=\"M18.56 5.44l.94 2.06.94-2.06 2.06-.94-2.06-.94-.94-2.06-.94 2.06-2.06.94zm-11 1L8.5 8.5l.94-2.06 2.06-.94-2.06-.94L8.5 2.5l-.94 2.06-2.06.94zm10 10l.94 2.06.94-2.06 2.06-.94-2.06-.94-.94-2.06-.94 2.06-2.06.94z\"/><path d=\"M17.41 7.96l-1.37-1.37c-.4-.4-.92-.59-1.43-.59-.52 0-1.04.2-1.43.59L10.3 9.45l-7.72 7.72c-.78.78-.78 2.05 0 2.83L4 21.41c.39.39.9.59 1.41.59.51 0 1.02-.2 1.41-.59l7.78-7.78 2.81-2.81c.8-.78.8-2.07 0-2.86zM5.41 20L4 18.59l7.72-7.72 1.47 1.35L5.41 20z\"/>\n",
              "  </svg>\n",
              "      </button>\n",
              "      \n",
              "  <style>\n",
              "    .colab-df-container {\n",
              "      display:flex;\n",
              "      flex-wrap:wrap;\n",
              "      gap: 12px;\n",
              "    }\n",
              "\n",
              "    .colab-df-convert {\n",
              "      background-color: #E8F0FE;\n",
              "      border: none;\n",
              "      border-radius: 50%;\n",
              "      cursor: pointer;\n",
              "      display: none;\n",
              "      fill: #1967D2;\n",
              "      height: 32px;\n",
              "      padding: 0 0 0 0;\n",
              "      width: 32px;\n",
              "    }\n",
              "\n",
              "    .colab-df-convert:hover {\n",
              "      background-color: #E2EBFA;\n",
              "      box-shadow: 0px 1px 2px rgba(60, 64, 67, 0.3), 0px 1px 3px 1px rgba(60, 64, 67, 0.15);\n",
              "      fill: #174EA6;\n",
              "    }\n",
              "\n",
              "    [theme=dark] .colab-df-convert {\n",
              "      background-color: #3B4455;\n",
              "      fill: #D2E3FC;\n",
              "    }\n",
              "\n",
              "    [theme=dark] .colab-df-convert:hover {\n",
              "      background-color: #434B5C;\n",
              "      box-shadow: 0px 1px 3px 1px rgba(0, 0, 0, 0.15);\n",
              "      filter: drop-shadow(0px 1px 2px rgba(0, 0, 0, 0.3));\n",
              "      fill: #FFFFFF;\n",
              "    }\n",
              "  </style>\n",
              "\n",
              "      <script>\n",
              "        const buttonEl =\n",
              "          document.querySelector('#df-b740f470-170f-4592-924d-5895a4449b46 button.colab-df-convert');\n",
              "        buttonEl.style.display =\n",
              "          google.colab.kernel.accessAllowed ? 'block' : 'none';\n",
              "\n",
              "        async function convertToInteractive(key) {\n",
              "          const element = document.querySelector('#df-b740f470-170f-4592-924d-5895a4449b46');\n",
              "          const dataTable =\n",
              "            await google.colab.kernel.invokeFunction('convertToInteractive',\n",
              "                                                     [key], {});\n",
              "          if (!dataTable) return;\n",
              "\n",
              "          const docLinkHtml = 'Like what you see? Visit the ' +\n",
              "            '<a target=\"_blank\" href=https://colab.research.google.com/notebooks/data_table.ipynb>data table notebook</a>'\n",
              "            + ' to learn more about interactive tables.';\n",
              "          element.innerHTML = '';\n",
              "          dataTable['output_type'] = 'display_data';\n",
              "          await google.colab.output.renderOutput(dataTable, element);\n",
              "          const docLink = document.createElement('div');\n",
              "          docLink.innerHTML = docLinkHtml;\n",
              "          element.appendChild(docLink);\n",
              "        }\n",
              "      </script>\n",
              "    </div>\n",
              "  </div>\n",
              "  "
            ]
          },
          "metadata": {},
          "execution_count": 56
        }
      ]
    },
    {
      "cell_type": "code",
      "source": [
        "#checking if we need any data standardization\n",
        "for i in df.columns:\n",
        "  if np.std(df[i]>1):\n",
        "    print(df[i])"
      ],
      "metadata": {
        "id": "Zadrj6Fv3AlX"
      },
      "execution_count": 59,
      "outputs": []
    },
    {
      "cell_type": "code",
      "source": [
        "y.value_counts()"
      ],
      "metadata": {
        "colab": {
          "base_uri": "https://localhost:8080/"
        },
        "id": "dLuDB-hl3M4d",
        "outputId": "45726e98-af2c-459c-c5ae-319347310ba1"
      },
      "execution_count": 61,
      "outputs": [
        {
          "output_type": "execute_result",
          "data": {
            "text/plain": [
              "M    111\n",
              "R     97\n",
              "Name: 60, dtype: int64"
            ]
          },
          "metadata": {},
          "execution_count": 61
        }
      ]
    },
    {
      "cell_type": "code",
      "source": [
        "y = y.map({'M':0,'R':1})"
      ],
      "metadata": {
        "id": "MOybsNPW3q6b"
      },
      "execution_count": 62,
      "outputs": []
    },
    {
      "cell_type": "code",
      "source": [
        "y.value_counts()"
      ],
      "metadata": {
        "colab": {
          "base_uri": "https://localhost:8080/"
        },
        "id": "qxBV_l954QgK",
        "outputId": "b5788a69-f9e9-4d0d-ea54-73920f04e184"
      },
      "execution_count": 63,
      "outputs": [
        {
          "output_type": "execute_result",
          "data": {
            "text/plain": [
              "0    111\n",
              "1     97\n",
              "Name: 60, dtype: int64"
            ]
          },
          "metadata": {},
          "execution_count": 63
        }
      ]
    },
    {
      "cell_type": "code",
      "source": [
        "X_train, X_test, Y_train, Y_test = train_test_split(df, y, test_size = 0.1, stratify=y, random_state=1)\n"
      ],
      "metadata": {
        "id": "gDZ_gjUk4TB2"
      },
      "execution_count": 65,
      "outputs": []
    },
    {
      "cell_type": "code",
      "source": [
        "model = LogisticRegression()\n",
        "model.fit(X_train,Y_train)"
      ],
      "metadata": {
        "colab": {
          "base_uri": "https://localhost:8080/"
        },
        "id": "PsIRm5na5PzL",
        "outputId": "f693cc15-fc95-4e68-8df8-3e4dc573853a"
      },
      "execution_count": 68,
      "outputs": [
        {
          "output_type": "execute_result",
          "data": {
            "text/plain": [
              "LogisticRegression()"
            ]
          },
          "metadata": {},
          "execution_count": 68
        }
      ]
    },
    {
      "cell_type": "code",
      "source": [
        "model.score(X_test,Y_test)"
      ],
      "metadata": {
        "colab": {
          "base_uri": "https://localhost:8080/"
        },
        "id": "2hQGNKV25Xyv",
        "outputId": "a723c8f6-e32c-4ca2-876d-2cf7a1f12c45"
      },
      "execution_count": 69,
      "outputs": [
        {
          "output_type": "execute_result",
          "data": {
            "text/plain": [
              "0.7619047619047619"
            ]
          },
          "metadata": {},
          "execution_count": 69
        }
      ]
    },
    {
      "cell_type": "code",
      "source": [
        "from sklearn.metrics import accuracy_score\n",
        "X_test_prediction = model.predict(X_test)\n",
        "test_data_accuracy = accuracy_score(X_test_prediction, Y_test) "
      ],
      "metadata": {
        "id": "ODOqOurS5ezh"
      },
      "execution_count": 71,
      "outputs": []
    },
    {
      "cell_type": "code",
      "source": [
        "test_data_accuracy"
      ],
      "metadata": {
        "colab": {
          "base_uri": "https://localhost:8080/"
        },
        "id": "aFt1_NLj6YGI",
        "outputId": "a2c2f943-b83b-40dd-9287-87e8b5ec8e65"
      },
      "execution_count": 72,
      "outputs": [
        {
          "output_type": "execute_result",
          "data": {
            "text/plain": [
              "0.7619047619047619"
            ]
          },
          "metadata": {},
          "execution_count": 72
        }
      ]
    },
    {
      "cell_type": "code",
      "source": [
        "models = {\n",
        "    \"svm_linear\": {\n",
        "        \"instance\": SVC(probability=True, gamma=\"auto\"),\n",
        "        \"params\": {\n",
        "            \"C\": [0.001, 0.01, 0.1, 1, 10, 100, 1000],\n",
        "            \"kernel\": [\"linear\"]\n",
        "        }\n",
        "    },\n",
        "    \"svm_rbf\": {\n",
        "        \"instance\": SVC(probability=True),\n",
        "        \"params\": {\n",
        "            \"C\": [0.001, 0.01, 0.1, 1, 10, 100, 1000],\n",
        "            \"kernel\": [\"rbf\"],\n",
        "            \"gamma\": [0.1, 0.2, 0.3, 0.4, 0.5, 0.6, 0.7, 0.8]\n",
        "        }\n",
        "    },\n",
        "    \"logistic_regression\": {\n",
        "        \"instance\": LogisticRegression(max_iter=500),\n",
        "        \"params\": {\n",
        "            \"C\": [0.001, 0.01, 0.1, 1, 10, 100, 1000],\n",
        "        }\n",
        "    },\n",
        "    \"random_forest\": {\n",
        "        \"instance\": RandomForestClassifier(),\n",
        "        \"params\": {\n",
        "            \"n_estimators\": [1, 10, 100, 1000]\n",
        "        }\n",
        "    }\n",
        "}"
      ],
      "metadata": {
        "id": "7i-oyj5v6Yhm"
      },
      "execution_count": 74,
      "outputs": []
    },
    {
      "cell_type": "code",
      "source": [
        "models.items()"
      ],
      "metadata": {
        "colab": {
          "base_uri": "https://localhost:8080/"
        },
        "id": "1P8-SfL07C84",
        "outputId": "aa3fdab7-90a6-43db-b15d-b43dbc986b6a"
      },
      "execution_count": 78,
      "outputs": [
        {
          "output_type": "execute_result",
          "data": {
            "text/plain": [
              "dict_items([('svm_linear', {'instance': SVC(gamma='auto', probability=True), 'params': {'C': [0.001, 0.01, 0.1, 1, 10, 100, 1000], 'kernel': ['linear']}}), ('svm_rbf', {'instance': SVC(probability=True), 'params': {'C': [0.001, 0.01, 0.1, 1, 10, 100, 1000], 'kernel': ['rbf'], 'gamma': [0.1, 0.2, 0.3, 0.4, 0.5, 0.6, 0.7, 0.8]}}), ('logistic_regression', {'instance': LogisticRegression(max_iter=500), 'params': {'C': [0.001, 0.01, 0.1, 1, 10, 100, 1000]}}), ('random_forest', {'instance': RandomForestClassifier(), 'params': {'n_estimators': [1, 10, 100, 1000]}})])"
            ]
          },
          "metadata": {},
          "execution_count": 78
        }
      ]
    },
    {
      "cell_type": "code",
      "source": [
        "scores = []\n",
        "best_estimators = {}\n",
        "\n",
        "for model_name, config in models.items():\n",
        "    print(\"Training\", model_name)\n",
        "    classifier = GridSearchCV(\n",
        "        estimator=config[\"instance\"],\n",
        "        param_grid=config[\"params\"],\n",
        "        cv=5\n",
        "    )\n",
        "    \n",
        "    classifier.fit(X_train, Y_train)\n",
        "    \n",
        "    scores.append({\n",
        "        \"model\" : model_name,\n",
        "        \"train_score\" : classifier.best_score_,\n",
        "        \"test_score\" : classifier.best_estimator_.score(X_test, Y_test),\n",
        "        \"params\" : classifier.best_params_\n",
        "    })\n",
        "    \n",
        "    best_estimators[model_name] = classifier.best_estimator_"
      ],
      "metadata": {
        "colab": {
          "base_uri": "https://localhost:8080/"
        },
        "id": "dcgMZqyG7DnV",
        "outputId": "b2436b9b-b5f1-4251-ff71-c0e1954b72a1"
      },
      "execution_count": 83,
      "outputs": [
        {
          "output_type": "stream",
          "name": "stdout",
          "text": [
            "Training svm_linear\n",
            "Training svm_rbf\n",
            "Training logistic_regression\n",
            "Training random_forest\n"
          ]
        }
      ]
    },
    {
      "cell_type": "code",
      "source": [
        "result = pd.DataFrame(scores, columns=[\"model\", \"train_score\", \"test_score\", \"params\"])\n",
        "result.head()"
      ],
      "metadata": {
        "colab": {
          "base_uri": "https://localhost:8080/",
          "height": 174
        },
        "id": "gQ3EF2zi7nwV",
        "outputId": "500c8d33-b93c-4ec4-c4d4-6909566c49ed"
      },
      "execution_count": 84,
      "outputs": [
        {
          "output_type": "execute_result",
          "data": {
            "text/plain": [
              "                 model  train_score  test_score  \\\n",
              "0           svm_linear     0.797013    0.714286   \n",
              "1              svm_rbf     0.881935    0.904762   \n",
              "2  logistic_regression     0.801991    0.761905   \n",
              "3        random_forest     0.828734    0.714286   \n",
              "\n",
              "                                     params  \n",
              "0             {'C': 10, 'kernel': 'linear'}  \n",
              "1  {'C': 10, 'gamma': 0.6, 'kernel': 'rbf'}  \n",
              "2                                 {'C': 10}  \n",
              "3                    {'n_estimators': 1000}  "
            ],
            "text/html": [
              "\n",
              "  <div id=\"df-ae234c32-f240-4572-ab33-f6f01a227baf\">\n",
              "    <div class=\"colab-df-container\">\n",
              "      <div>\n",
              "<style scoped>\n",
              "    .dataframe tbody tr th:only-of-type {\n",
              "        vertical-align: middle;\n",
              "    }\n",
              "\n",
              "    .dataframe tbody tr th {\n",
              "        vertical-align: top;\n",
              "    }\n",
              "\n",
              "    .dataframe thead th {\n",
              "        text-align: right;\n",
              "    }\n",
              "</style>\n",
              "<table border=\"1\" class=\"dataframe\">\n",
              "  <thead>\n",
              "    <tr style=\"text-align: right;\">\n",
              "      <th></th>\n",
              "      <th>model</th>\n",
              "      <th>train_score</th>\n",
              "      <th>test_score</th>\n",
              "      <th>params</th>\n",
              "    </tr>\n",
              "  </thead>\n",
              "  <tbody>\n",
              "    <tr>\n",
              "      <th>0</th>\n",
              "      <td>svm_linear</td>\n",
              "      <td>0.797013</td>\n",
              "      <td>0.714286</td>\n",
              "      <td>{'C': 10, 'kernel': 'linear'}</td>\n",
              "    </tr>\n",
              "    <tr>\n",
              "      <th>1</th>\n",
              "      <td>svm_rbf</td>\n",
              "      <td>0.881935</td>\n",
              "      <td>0.904762</td>\n",
              "      <td>{'C': 10, 'gamma': 0.6, 'kernel': 'rbf'}</td>\n",
              "    </tr>\n",
              "    <tr>\n",
              "      <th>2</th>\n",
              "      <td>logistic_regression</td>\n",
              "      <td>0.801991</td>\n",
              "      <td>0.761905</td>\n",
              "      <td>{'C': 10}</td>\n",
              "    </tr>\n",
              "    <tr>\n",
              "      <th>3</th>\n",
              "      <td>random_forest</td>\n",
              "      <td>0.828734</td>\n",
              "      <td>0.714286</td>\n",
              "      <td>{'n_estimators': 1000}</td>\n",
              "    </tr>\n",
              "  </tbody>\n",
              "</table>\n",
              "</div>\n",
              "      <button class=\"colab-df-convert\" onclick=\"convertToInteractive('df-ae234c32-f240-4572-ab33-f6f01a227baf')\"\n",
              "              title=\"Convert this dataframe to an interactive table.\"\n",
              "              style=\"display:none;\">\n",
              "        \n",
              "  <svg xmlns=\"http://www.w3.org/2000/svg\" height=\"24px\"viewBox=\"0 0 24 24\"\n",
              "       width=\"24px\">\n",
              "    <path d=\"M0 0h24v24H0V0z\" fill=\"none\"/>\n",
              "    <path d=\"M18.56 5.44l.94 2.06.94-2.06 2.06-.94-2.06-.94-.94-2.06-.94 2.06-2.06.94zm-11 1L8.5 8.5l.94-2.06 2.06-.94-2.06-.94L8.5 2.5l-.94 2.06-2.06.94zm10 10l.94 2.06.94-2.06 2.06-.94-2.06-.94-.94-2.06-.94 2.06-2.06.94z\"/><path d=\"M17.41 7.96l-1.37-1.37c-.4-.4-.92-.59-1.43-.59-.52 0-1.04.2-1.43.59L10.3 9.45l-7.72 7.72c-.78.78-.78 2.05 0 2.83L4 21.41c.39.39.9.59 1.41.59.51 0 1.02-.2 1.41-.59l7.78-7.78 2.81-2.81c.8-.78.8-2.07 0-2.86zM5.41 20L4 18.59l7.72-7.72 1.47 1.35L5.41 20z\"/>\n",
              "  </svg>\n",
              "      </button>\n",
              "      \n",
              "  <style>\n",
              "    .colab-df-container {\n",
              "      display:flex;\n",
              "      flex-wrap:wrap;\n",
              "      gap: 12px;\n",
              "    }\n",
              "\n",
              "    .colab-df-convert {\n",
              "      background-color: #E8F0FE;\n",
              "      border: none;\n",
              "      border-radius: 50%;\n",
              "      cursor: pointer;\n",
              "      display: none;\n",
              "      fill: #1967D2;\n",
              "      height: 32px;\n",
              "      padding: 0 0 0 0;\n",
              "      width: 32px;\n",
              "    }\n",
              "\n",
              "    .colab-df-convert:hover {\n",
              "      background-color: #E2EBFA;\n",
              "      box-shadow: 0px 1px 2px rgba(60, 64, 67, 0.3), 0px 1px 3px 1px rgba(60, 64, 67, 0.15);\n",
              "      fill: #174EA6;\n",
              "    }\n",
              "\n",
              "    [theme=dark] .colab-df-convert {\n",
              "      background-color: #3B4455;\n",
              "      fill: #D2E3FC;\n",
              "    }\n",
              "\n",
              "    [theme=dark] .colab-df-convert:hover {\n",
              "      background-color: #434B5C;\n",
              "      box-shadow: 0px 1px 3px 1px rgba(0, 0, 0, 0.15);\n",
              "      filter: drop-shadow(0px 1px 2px rgba(0, 0, 0, 0.3));\n",
              "      fill: #FFFFFF;\n",
              "    }\n",
              "  </style>\n",
              "\n",
              "      <script>\n",
              "        const buttonEl =\n",
              "          document.querySelector('#df-ae234c32-f240-4572-ab33-f6f01a227baf button.colab-df-convert');\n",
              "        buttonEl.style.display =\n",
              "          google.colab.kernel.accessAllowed ? 'block' : 'none';\n",
              "\n",
              "        async function convertToInteractive(key) {\n",
              "          const element = document.querySelector('#df-ae234c32-f240-4572-ab33-f6f01a227baf');\n",
              "          const dataTable =\n",
              "            await google.colab.kernel.invokeFunction('convertToInteractive',\n",
              "                                                     [key], {});\n",
              "          if (!dataTable) return;\n",
              "\n",
              "          const docLinkHtml = 'Like what you see? Visit the ' +\n",
              "            '<a target=\"_blank\" href=https://colab.research.google.com/notebooks/data_table.ipynb>data table notebook</a>'\n",
              "            + ' to learn more about interactive tables.';\n",
              "          element.innerHTML = '';\n",
              "          dataTable['output_type'] = 'display_data';\n",
              "          await google.colab.output.renderOutput(dataTable, element);\n",
              "          const docLink = document.createElement('div');\n",
              "          docLink.innerHTML = docLinkHtml;\n",
              "          element.appendChild(docLink);\n",
              "        }\n",
              "      </script>\n",
              "    </div>\n",
              "  </div>\n",
              "  "
            ]
          },
          "metadata": {},
          "execution_count": 84
        }
      ]
    },
    {
      "cell_type": "code",
      "source": [
        ""
      ],
      "metadata": {
        "id": "YiPHiUKg7oBW"
      },
      "execution_count": null,
      "outputs": []
    }
  ]
}