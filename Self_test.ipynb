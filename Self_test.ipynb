{
  "nbformat": 4,
  "nbformat_minor": 0,
  "metadata": {
    "colab": {
      "name": "Self test.ipynb",
      "provenance": []
    },
    "kernelspec": {
      "name": "python3",
      "display_name": "Python 3"
    },
    "language_info": {
      "name": "python"
    }
  },
  "cells": [
    {
      "cell_type": "code",
      "execution_count": 250,
      "metadata": {
        "colab": {
          "base_uri": "https://localhost:8080/"
        },
        "id": "J98S_Rw2fMVm",
        "outputId": "104c1863-5897-4aee-d1ff-82caab092ea1"
      },
      "outputs": [
        {
          "output_type": "execute_result",
          "data": {
            "text/plain": [
              "0.7675675675675676"
            ]
          },
          "metadata": {},
          "execution_count": 250
        }
      ],
      "source": [
        "# import pandas as pd\n",
        "# from google.colab import files\n",
        "# uploaded = files.upload()\n",
        "df = pd.read_csv('train.csv')\n",
        "\n",
        "df.head()\n",
        "\n",
        "\n",
        "\n",
        "df.loc[ df['Dependents'] == '3+', 'Dependents'] = 4\n",
        "df.Dependents=df.Dependents.fillna(0)\n",
        "df.Self_Employed=df.Self_Employed.dropna()\n",
        "df.LoanAmount=df.LoanAmount.fillna(df.LoanAmount.mean())\n",
        "df.LoanAmount = 1000* df['LoanAmount']\n",
        "df.Loan_Amount_Term = (df.Loan_Amount_Term.fillna(df.Loan_Amount_Term.mode()))\n",
        "df.Loan_Amount_Term = df.Loan_Amount_Term.fillna(0)\n",
        "df.Loan_Amount_Term = (df.Loan_Amount_Term)/12\n",
        "df.Credit_History = df.Credit_History.fillna(0)\n",
        "\n",
        "#df =df.dropna()\n",
        "from sklearn.preprocessing import MinMaxScaler\n",
        "scaler = MinMaxScaler()\n",
        "scaler.fit(df[['LoanAmount']])\n",
        "df['LoanAmount'] = scaler.transform(df[['LoanAmount']])\n",
        "# scaler.fit(df[['ApplicantIncome']])\n",
        "# df['ApplicantIncome'] = scaler.transform(df[['ApplicantIncome']])\n",
        "# scaler.fit(df[['CoapplicantIncome']])\n",
        "# df['CoapplicantIncome'] = scaler.transform(df[['CoapplicantIncome']])\n",
        "y=df.Loan_Status\n",
        "df = df.drop(['Loan_ID','Loan_Status','CoapplicantIncome'],axis = 'columns')\n",
        "#df = df.reset_index(drop = True)\n",
        "df.isnull().sum()\n",
        "df = pd.get_dummies(df,drop_first=True)\n",
        "from sklearn.ensemble import RandomForestClassifier\n",
        "from sklearn.linear_model import LogisticRegression\n",
        "from sklearn.linear_model import LogisticRegressionCV\n",
        "from sklearn.model_selection import train_test_split\n",
        "model = RandomForestClassifier()\n",
        "lr = LogisticRegression()\n",
        "lrcv = LogisticRegressionCV(cv=5)\n",
        "\n",
        "x_train,x_test,y_train,y_test = train_test_split(df,y,test_size=0.3)\n",
        "lrcv.fit(x_train,y_train)\n",
        "lrcv.score(x_test,y_test)\n",
        "t = pd.read_csv('test.csv')\n",
        "t.loc[ t['Dependents'] == '3+', 'Dependents'] = 4\n",
        "t.Dependents=t.Dependents.fillna(0)\n",
        "t.Self_Employed=t.Self_Employed.dropna()\n",
        "t.LoanAmount=df.LoanAmount.fillna(t.LoanAmount.mean())\n",
        "t.LoanAmount = 1000* t['LoanAmount']\n",
        "t.Loan_Amount_Term = (t.Loan_Amount_Term.fillna(df.Loan_Amount_Term.mode()))\n",
        "t.Loan_Amount_Term = t.Loan_Amount_Term.fillna(0)\n",
        "t.Loan_Amount_Term = (t.Loan_Amount_Term)/12\n",
        "t.Credit_History = t.Credit_History.fillna(0)\n",
        "\n",
        "\n",
        "from sklearn.preprocessing import MinMaxScaler\n",
        "scaler = MinMaxScaler()\n",
        "scaler.fit(t[['LoanAmount']])\n",
        "t['LoanAmount'] = scaler.transform(t[['LoanAmount']])\n",
        "t = t.drop(['Loan_ID','CoapplicantIncome'],axis = 'columns')\n",
        "t.isnull().sum()\n",
        "#t =t.dropna()\n",
        "t = pd.get_dummies(t,drop_first=True)\n",
        "a= pd.DataFrame(lrcv.predict(t))\n",
        "a.to_csv('sample.csv')\n",
        "\n",
        "lrcv.score(x_test,y_test)\n",
        "\n",
        "\n",
        "\n",
        "\n"
      ]
    }
  ]
}